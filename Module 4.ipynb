{
 "cells": [
  {
   "cell_type": "code",
   "execution_count": 4,
   "metadata": {},
   "outputs": [],
   "source": [
    "import numpy as np\n",
    "import matplotlib.pyplot as plt\n",
    "# from serial import Serial # Uncomment this line if you are using the real car\n",
    "from KITT_Simulator.serialSimulator import Serial # Uncomment this line if you are using the simulator"
   ]
  },
  {
   "cell_type": "markdown",
   "metadata": {},
   "source": [
    "# Module 4: Car Model"
   ]
  },
  {
   "cell_type": "markdown",
   "metadata": {},
   "source": [
    "This module is divided into two parts: a velocity model and a steering model. By the end of the module, you will have created Python code that simulates the car's movement based on a physics models and calibrated by real-world data.\n",
    "\n",
    "Using the velocity model, you will be able to predict the car's velocity based on the throttle and time. Using the steering model, you will be able to predict the car's steering angle based on the steering wheel angle and time. This will enable you to plan what commands to send to the car to make it move to a desired location."
   ]
  },
  {
   "cell_type": "markdown",
   "metadata": {},
   "source": [
    "## Velocity Model\n",
    "\n",
    "### Forces Acting on the RC Car\n",
    "\n",
    "Consider an RC car of mass m moving on a flat surface. The primary forces acting on the car are:\n",
    "\n",
    "- F_motor: The driving force provided by the motor.\n",
    "- F_friction: The frictional force opposing the motion, which is proportional to the velocity, F_friction = -b * v, where b is the friction coefficient.\n",
    "- F_air: The air resistance, which is proportional to the square of the velocity, F_air = -c * v^2, where c is the air resistance coefficient.\n",
    "\n",
    "The net force acting on the car can be expressed as:\n",
    "\n",
    "$$ F_{\\text{net}} = F_{\\text{motor}} - b v - c v^2 $$\n",
    "\n",
    "### Newton's Second Law of Motion\n",
    "\n",
    "According to Newton's second law, the net force acting on the car is equal to the mass of the car times its acceleration:\n",
    "\n",
    "$$ F_{\\text{net}} = m \\frac{dv}{dt} $$\n",
    "\n",
    "Substituting the expression for F_net:\n",
    "\n",
    "$$ m \\frac{dv}{dt} = F_{\\text{motor}} - b v - c v^2 $$\n",
    "\n",
    "### Velocity as a Function of Time\n",
    "\n",
    "To find the velocity as a function of time, solve the differential equation:\n",
    "\n",
    "$$ \\frac{dv}{dt} = \\frac{F_{\\text{motor}}}{m} - \\frac{b}{m} v - \\frac{c}{m} v^2 $$\n",
    "\n",
    "This is a nonlinear differential equation due to the v^2 term. However, if air resistance is small compared to friction, you can neglect the c * v^2  term for a simplified model:\n",
    "\n",
    "$$ \\frac{dv}{dt} = \\frac{F_{\\text{motor}}}{m} - \\frac{b}{m} v $$\n",
    "\n",
    "The solution to this first-order linear differential equation is:\n",
    "\n",
    "$$ v(t) = \\frac{F_{\\text{motor}}}{b} \\left(1 - e^{-\\frac{b}{m}t}\\right) $$"
   ]
  },
  {
   "cell_type": "markdown",
   "metadata": {},
   "source": [
    "## Implementing the Velocity Model\n",
    "For now we will assume that you only use one motor command to drive, so that there is only one F_motor. The constants that are given are selected randomly and are not accurate. You will need to calibrate these constants using your own car."
   ]
  },
  {
   "cell_type": "code",
   "execution_count": 5,
   "metadata": {},
   "outputs": [
    {
     "data": {
      "image/png": "[encoded data removed]",
      "text/plain": [
       "<Figure size 500x300 with 1 Axes>"
      ]
     },
     "metadata": {},
     "output_type": "display_data"
    }
   ],
   "source": [
    "# Parameters\n",
    "m = 1.5  # mass of the car (kg)\n",
    "F_motor = 15.0  # constant motor force (N)\n",
    "b = 0.5  # friction coefficient (N·s/m)\n",
    "\n",
    "dt = 0.01  # time step (s)\n",
    "t_max = 10.0  # maximum simulation time (s)\n",
    "\n",
    "# Time array\n",
    "t = np.arange(0, t_max, dt)\n",
    "\n",
    "# Velocity array\n",
    "v = np.zeros_like(t)\n",
    "\n",
    "# Initial condition\n",
    "v[0] = 0.0  # initial velocity (m/s)\n",
    "\n",
    "# Numerical simulation (Euler's method)\n",
    "for i in range(1, len(t)):\n",
    "    # Simplified model (without air resistance)\n",
    "    dv_simplified = (F_motor/m - (b/m) * v[i-1]) * dt\n",
    "    v[i] = v[i-1] + dv_simplified\n",
    "\n",
    "# Plotting the results\n",
    "plt.figure(figsize=(5, 3))\n",
    "plt.plot(t, v, linestyle='--')\n",
    "plt.xlabel('Time (s)')\n",
    "plt.ylabel('Velocity (m/s)')\n",
    "plt.title('Velocity of the RC Car Over Time')\n",
    "plt.grid(True)\n",
    "plt.show()\n",
    "    "
   ]
  },
  {
   "cell_type": "markdown",
   "metadata": {},
   "source": [
    "## Calibrating the Velocity Model\n",
    "\n",
    "In this section, you will determine the parameters F_motor and b. The mass of the car is given as 5.6 kg. To find these parameters, we will closely examine the velocity equation and write some code to make measurements on the car. This part is less guided so you will have to find some of your own sollutions. Remember that the velocity equation is:\n",
    "\n",
    "$$ v(t) = \\frac{F_{\\text{motor}}}{b} \\left(1 - e^{-\\frac{b}{m}t}\\right) $$\n",
    "\n",
    "With it's derivative:\n",
    "\n",
    "$$ \\frac{dv}{dt} = \\frac{F_{\\text{motor}}}{m}  \\times e^{-\\frac{b}{m}t}$$\n",
    "\n",
    "### Finding the Friction Coefficient b\n",
    "\n",
    "1. **Measure Terminal Velocity:**\n",
    "   - Run the car at a motor command setting of interest towards a wall. Measure the terminal velocity as the car accelerates until v_terminal is reached. Please place one of the boxes in front of the car to stop it from crashing into the wall. Transfor these distance measurements into a velocity plot.\n",
    "   \n",
    "2. **Initial Acceleration:**\n",
    "   - At the very beginning of the motion, the car starts from rest, and the initial velocity v(0) = 0. At this point, frictional forces are negligible since v is small, and the acceleration dv\\dt can be approximated by:\n",
    "     $$ \\frac{dv}{dt} \\approx \\frac{F_{\\text{motor}}}{m} $$\n",
    "   - Measure the acceleration of the car from rest. This can be done by measuring the speed at two very close time intervals after the car starts moving and calculating the acceleration using the formula:\n",
    "     $$ a_0 = \\frac{\\Delta v}{\\Delta t} $$\n",
    "\n",
    "3. **Calculate F_motor:**\n",
    "   - Use the measured initial acceleration a_0 to calculate the motor force:\n",
    "     $$ F_{\\text{motor}} = m \\times a_0 $$\n",
    "\n",
    "4. **Calculate b Using Terminal Velocity:**\n",
    "   - With F_motor known, use the measured terminal velocity v_terminal to calculate the friction coefficient b:\n",
    "     $$ b = \\frac{F_{\\text{motor}}}{v_{\\text{terminal}}} $$"
   ]
  },
  {
   "cell_type": "code",
   "execution_count": null,
   "metadata": {},
   "outputs": [],
   "source": []
  },
  {
   "cell_type": "markdown",
   "metadata": {},
   "source": [
    "# Steering model"
   ]
  },
  {
   "cell_type": "markdown",
   "metadata": {},
   "source": []
  }
 ],
 "metadata": {
  "kernelspec": {
   "display_name": "Python 3",
   "language": "python",
   "name": "python3"
  },
  "language_info": {
   "codemirror_mode": {
    "name": "ipython",
    "version": 3
   },
   "file_extension": ".py",
   "mimetype": "text/x-python",
   "name": "python",
   "nbconvert_exporter": "python",
   "pygments_lexer": "ipython3",
   "version": "3.11.9"
  }
 },
 "nbformat": 4,
 "nbformat_minor": 2
}
