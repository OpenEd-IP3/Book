{
 "cells": [
  {
   "cell_type": "markdown",
   "metadata": {},
   "source": [
    "# Module 1 - Connecting with and Controlling KITT\n",
    "\n",
    "In this module we will start working with the car simulator and the car.\n",
    "We will start with providing an overview and a brief description on getting to know the vehicle and implementing some basic control scripts. \n",
    "\n",
    "## Brief Overview\n",
    "\n",
    "KITT is a remotely controlled vehicle. To allow for this remote control, a wireless link must be used.\n",
    "Over this wireless link, control commands can be sent from the base station (your computer) to KITT.\n",
    "This wireless link also facilitates requests for data from KITT and KITT’s data in response to these\n",
    "requests. This project requires you to maneuver KITT in all sorts of ways. To get there, in this module, you will set up a\n",
    "connection to KITT and work with basic controls to allow for more advanced actions later on.\n",
    "\n",
    "\n",
    "### KITT Basics\n",
    "\n",
    "KITT is based on a repurposed toy car model, the Traxass E-MAXX. As seen in this {ref}`KITT car <car-figure>` figure. There is a data sheet as well which gives an overview of the various components, such as the motor controller, LCD status indicator, ultrasonic sensors, and, most importantly, the communication module.\n",
    "\n",
    "\n",
    "```{figure} traxxas_e-maxx.png\n",
    "---\n",
    "height/width: 150px\n",
    "name: car-figure\n",
    "---\n",
    "Traxass E-MAXX along with it's dimensions\n",
    "```\n",
    "\n",
    "#### Hardware\n",
    "\n",
    "Many components are combined on a single custom-made MCU board installed on KITT. The microcontroller forms the core of this board, an NXP LPC4357 chip with an ARM CORTEX-M4/M0 core. The MCU board contains the Bluetooth module, connectors for all peripherals, and an amplifier for the audio beacon, which will be used for the localization. The following figure {ref}`Schematic Overview of KITT communication with the PC <Schematic-overview>` shows a schematic overview of the connection.\n",
    "\n",
    "The MCU is fed from the rechargeable batteries using a buck converter that converts the voltage to *5V* DC. Using an LM1117-3.3, *3.3V* is generated.\n",
    "\n",
    "\n",
    "```{figure} communication_overview.png\n",
    "---\n",
    "height/width: 150px\n",
    "name: Schematic-overview\n",
    "---\n",
    "Schematic of communication with KITT and PC.\n",
    "```\n",
    "\n",
    "The Bluetooth communication with KITT consists of the following elements:\n",
    "\n",
    "-  On car: Roving Networks RN-41 I/RM, Onboard Bluetooth module with UART control.\n",
    "-  On PC: LM Technologies LM506, USB Bluetooth V4.0 dongle with Broadcom BCM20702 chipset, or the internal Bluetooth module of your laptop.\n",
    "\n",
    "You can use your computer's internal Bluetooth connector to connect to KITT. If you want to use one of the lab computers or have trouble connecting to KITT from your PC (check if all drivers are installed), you can use the USB Bluetooth dongle. \n",
    "\n",
    "KITT has four LED's, see figure {ref}`KITT <KITT>`, their meaning is as follows:\n",
    "\n",
    "```{figure} figurejoin.png\n",
    "---\n",
    "height/width: 80px\n",
    "name: KITT\n",
    "---\n",
    "(KITT)\n",
    "```\n",
    "\n",
    "- Red (twice): *5V* and *20V* supply voltages are present.\n",
    "- Green (blinking): Bluetooth searches for connection; (steady) Bluetooth connected.\n",
    "- Yellow (blinking): Bluetooth data transfer.\n",
    "\n",
    "The button next to the LEDs is a reset button for the MCU. This reset button allows the user to reset KITT's actions if it freezes or is unresponsive.\n",
    "\n"
   ]
  },
  {
   "cell_type": "markdown",
   "metadata": {},
   "source": [
    "### Communicating with KITT\n",
    "\n",
    "In this section, we cover the essential concepts required to effectively communicate with the KITT system. In the following section, we will apply these principles in practice, implementing them in the simulator and the car.\n",
    "\n",
    "#### pySerial \n",
    "\n",
    "pySerial is a Python module that provides a simple and efficient way to communicate with serial ports. It allows Python programs to access and manipulate the serial ports on a computer, allowing them to communicate with other devices connected to those ports. With pySerial, you can easily send and receive data to/from these devices. pySerial is cross-platform, which works on Windows, macOS, and Linux operating systems.\n",
    "\n",
    "- *serial.Serial(port, baud rate)* - This command initializes a serial connection. The port argument specifies the serial port to use (e.g., \"COM1\" on Windows or \"/dev/rfcomm0\" on Linux),\n",
    "and the baud-rate argument specifies the data rate in bits per second.\n",
    "- *serial.write(data)* - This command sends data over the serial connection. The data argument is a bytes object that contains the data to be sent.\n",
    "- *serial.read(size)* - This command reads a specified number of bytes from the serial connection. It blocks until the specified number of bytes is received.\n",
    "- *serial.flush()* - This command is used to flush the input and output buffers of the serial connection.\n",
    "- *serial.close()* - This command is used to close the serial connection.\n",
    "\n",
    "Further more, updated information regarding the module can also be found through this link [pySerial](https://pyserial.readthedocs.io/en/latest/pyserial.html)."
   ]
  },
  {
   "cell_type": "markdown",
   "metadata": {},
   "source": [
    "#### Connecting to KITT\n",
    "\n",
    "To start off with, connect the car to your computer over Bluetooth. Make sure you know the name of the Bluetooth port that the car is connected to. To access the link in Python use,\n",
    "```{code-cell}\n",
    "serial_port = serial.Serial(comport, 115200, rtscts=True)\n",
    "```\n",
    "serial_port is an instance of pySerial and this object can be used to manipulate KITT. The variable comport is the path to the comport assigned to the Bluetooth connection with KITT. Which\n",
    "comport specifically KITT is connected to can be found in your communication settings.\n",
    "\n",
    "E.g., if your transmission connection to KITT takes place over port 10, then you should use:\n",
    "comport = 'COM10'\n",
    "\n",
    "Connecting to a serial port over Bluetooth can be pretty tricky. Windows users, refer to Appendix B. Linux users can use ‘# rfcomm bind rfcomm0 MAC_ADDRESS’; there is also a section about it on the Arch [Linux wiki](  https://wiki.archlinux.org/title/Bluetooth#Bluetooth_serial). The MAC address of KITT always ends with the code printed on its label. For example, if the label reads DA:84, the MAC will end with xx:xx:xx:xx:DA:84. \n",
    "\n",
    "To find out which serial ports are available, you can use the list_ports tool of pySerial. Run the following in a shell:\n",
    "\n",
    "```{code-cell}\n",
    "python -m serial.tools.list_ports\n",
    "```\n",
    "\n",
    "Further information regarding the issues with connecting to the port via Bluetooth can be solved by referring to the Appendices."
   ]
  },
  {
   "cell_type": "markdown",
   "metadata": {},
   "source": [
    "```{important} Click to Show\n",
    "Also keep in mind, The Bluetooth connection is disturbed by leaving comports open, quitting your work without closing the communication link, removing the Bluetooth dongle, or turning off the Bluetooth connection. Avoid disturbing the Bluetooth connection by ending the connection properly before doing any of the aforementioned things. If you disturb the Bluetooth link, you may need to reboot your computer to reset the operating system, which costs you valuable lab time.\n",
    "\n",
    "```\n",
    "The connection must also be closed once you are done using the port, \n",
    "\n",
    "```{code-cell}\n",
    "serial_port.close()\n",
    "```"
   ]
  },
  {
   "cell_type": "markdown",
   "metadata": {},
   "source": [
    "#### Controlling KITT\n",
    "\n",
    "After connecting to KITT, commands are required to control it: Driving commands, Audio beacon commands, Status command.\n",
    "\n",
    "__Driving Commands:__ First off, for driving there are 2 types of instructions:\n",
    "\n",
    "-  A direction command.\n",
    "-  A motor speed command.\n",
    "\n",
    "These are controlled using Pulse width modulation.  Both commands are neutral at a setting of 150. The direction commands range from 200 (hard left) to 100 (hard right), and the motor commands range from 135 (backward) to 165 (forward)."
   ]
  },
  {
   "cell_type": "markdown",
   "metadata": {},
   "source": [
    "\n",
    "```{note} Click to Show\n",
    "\n",
    "However, there is a dead zone for the motor commands, so KITT will likely not start moving forward until the PWM is set to about 153. It is recommended to experiment with these values, they are also battery-dependent. You should test the size of the drive command dead-band, verify that 150 is the middle position for steering (sometimes there is a deviation of ±2), and test the maximum left and right position.\n",
    "\n",
    "```\n",
    "All the commands are sent in binary and end with a new line character.\n",
    "\n"
   ]
  },
  {
   "cell_type": "markdown",
   "metadata": {},
   "source": [
    "```{code-cell}\n",
    "\n",
    "serial_port.write(b'code\\n')\n",
    "\n",
    "```\n",
    "\n",
    "To set direction to 169 and motor speed to 135, it can be done as follows, \n",
    "\n",
    "```{code-cell}\n",
    "serial_port.write(b'D169\\n')\n",
    "serial_port.write(b'M135\\n')\n",
    "```\n",
    "\n",
    "```{attention}\n",
    "\n",
    "Once you set the motor speed commands, KITT will continue to act on this until you either\n",
    "transmit a new motor speed command or reset the MCU using the button on KITT, which will set both\n",
    "direction and motor speed commands to the neutral value of 150. Do one of these two options after your\n",
    "tests since KITT will keep driving if you don’t.\n",
    "```\n",
    "\n"
   ]
  },
  {
   "cell_type": "markdown",
   "metadata": {},
   "source": [
    "**Audio beacon** Secondly, Audio beacon commands used are,\n",
    "\n",
    "```{code-cell}\n",
    "# ON-OFF commands\n",
    "serial_port.write(b'A1\\n')\n",
    "serial_port.write(b'A0\\n')\n",
    "```\n",
    "\n",
    "```{caution}\n",
    "\n",
    "Be aware that the default code word for the beacon is 0x00000000, which means KITT will not start making noise on its own when the beacon is turned on. You should specify a code as described below before you can hear the beacon make noise. Furthermore, an arbitrary carrier frequency, bit frequency and repitition count can be used. (Generally, maximum of 30 kHz)\n",
    "\n",
    "```\n",
    "```{code-cell}\n",
    "# Carrier frequency set to 10000 Hz for example.\n",
    "\n",
    "carrier_frequency = 10000.to_bytes(2, byteorder='big')\n",
    "serial_port.write(b'F' + carrier_frequency + b'\\n')\n",
    "\n",
    "# Bit frequency set to 5000 Hz for example.\n",
    "\n",
    "bit_frequency = 5000.to_bytes(2, byteorder='big')\n",
    "serial_port.write(b'B' + bit_frequency + b'\\n')\n",
    "\n",
    "# Repitition count has a minimum of 32.\n",
    "\n",
    "repetition_count = 2500.to_bytes(2, byteorder='big')\n",
    "serial_port.write(b'R' + repetition_count + b'\\n')\n",
    "\n",
    "# The 32 bits code pattern is transmitted bit-wise over the beacon. Hence, code must be specified in hexadecimal.\n",
    "\n",
    "code = 0xDEADBEEF.to_bytes(4, byteorder='big')\n",
    "serial_port.write(b'C' + code + b'\\n')\n",
    "```\n",
    "The repitition count formula is as follows, \n",
    "\n",
    "$$\n",
    "\\displaystyle\n",
    "\\left( Repitition count = Bit frequency/ Repitition Frequency \\right)\n",
    "$$\n",
    "\n"
   ]
  },
  {
   "cell_type": "markdown",
   "metadata": {},
   "source": [
    "**status command** Lastly, the status command which requests for the status and all the data from KITT, \n",
    "\n",
    "```{code-cell}\n",
    "\n",
    "serial_port.write(b'S\\n')\n",
    "status = serial_port.read_until(b'\\x04')\n",
    "\n",
    "```\n",
    "\n",
    "```{Note}\n",
    "\n",
    "The status string reports the current drive commands, the ultrasonic sensor distance (cm), the battery voltage (mV), the audio status (on/off) and control parameters (code word,carrier-frequency, bit-frequency, repetition count). A sensor distance of 999 means overload (i.e., out of range) \n",
    "Also, remember that all the numbers provided here serve only as an example. It is up to you to determine what carrier frequency, code word, etc., best fits the goal of succeeding at the final challenge.\n",
    "\n",
    "```\n"
   ]
  },
  {
   "cell_type": "markdown",
   "metadata": {},
   "source": []
  },
  {
   "cell_type": "markdown",
   "metadata": {},
   "source": [
    "### Implementing a basic KITT Control Script\n",
    "\n",
    "Now you can start to write a Python program to control the simulator or the car connected over Bluetooth. This program should allow the car to be controlled using the keyboard w, a, s, and d keys. The e and q should start and stop the audio beacon. Also add a key to stop communication with KITT. \n",
    "\n",
    "We start this program by defining a the class KITT and some essential methods for communication. Classes define the structure and capabilities of objects, allowing you to create multiple instances with the same properties and methods. Next you will complete the *wasd* function. You have to design the wasd function as a continuous loop that reads keyboard events using the keyboard library which you load using import keyboard. You will finally call the function and test your code first on the simulator and next on the real car."
   ]
  },
  {
   "cell_type": "markdown",
   "metadata": {},
   "source": [
    "Here is a short explanation of the code that you will complete in the following code cells. Ensure you understand how the code works before using its various functions.\n",
    "\n",
    "**KITT Class:***\n",
    "- The `__init__` method is the one that runs when you make an instance of the class. It starts the\n",
    "serial communication with the specified port and baud rate.\n",
    "- `send_command` method sends a given command to KITT over the established serial connection.\n",
    "- `set_speed` and `set_angle` methods adjust KITT’s speed and steering angle, respectively.\n",
    "- `stop` method brings KITT to a halt by setting both speed and angle to a neutral state.\n",
    "- `__del__` method ensures the proper closure of the serial communication when the KITT object is\n",
    "deleted. It runs automatically at the end of the script.\n",
    "\n",
    "**wasd Function:**\n",
    "- The wasd function is designed to be a continuous loop that reads keyboard events using \n",
    "    the keyboard library which you loaded using import keyboard.\n",
    "- When a key is pressed (KEY_DOWN), the function interprets the key and adjusts KITT’s speed and steering angle or toggles the beacon accordingly.\n",
    "- The ‘w’ key accelerates KITT forward, ‘s’ stops KITT, ’a’ turns KITT left, and ‘d’ turns KITT right.\n",
    "- The ‘e’ key turns on the beacon, and the ‘q’ key turns off the beacon.\n",
    "- When a key is released (KEY_UP), you could define appropriate actions, e.g. stop KITT or reset the steering angle.\n",
    "\n",
    "**test code** \n",
    "- `if __name__ == \"__main__\"` This is the code that will start executing when you run your script. This contstruct allows you to\n",
    "mport your script as a module into another script without running the test code.\n",
    "\n",
    "- An instance of KITT (an object of the KITT class) is then created, with the port as a parameter.\n",
    "You should change this to your port number.\n",
    "- Next, the wasd function is called and given this instance of KITT. It should detect key-press events\n",
    "and attach these to KITT commands like\n",
    "– kitt.set_speed(170)\n",
    "– kitt.set_angle(150)\n",
    "– kitt.stop\n",
    "\n",
    "**TODO:** modify the __init__ so that when the communication with KITT is started, the beacon\n",
    "is initialized with the correct set of parameters. Use the existing serial port and send_command.\n",
    "**TODO:** add two methods start_beacon and stop_beacon that turn the beacon on or off. Note\n",
    "that you should have set the beacon parameters during the __init__, so there is no need to resend\n",
    "them every time you turn the beacon on."
   ]
  },
  {
   "cell_type": "code",
   "execution_count": 1,
   "metadata": {},
   "outputs": [],
   "source": [
    "# import serial\n",
    "from KITT_Simulator.serialSimulator import Serial\n",
    "import keyboard \n",
    "import numpy as np\n",
    "import matplotlib.pyplot as plt\n",
    "import time"
   ]
  },
  {
   "cell_type": "code",
   "execution_count": 2,
   "metadata": {},
   "outputs": [],
   "source": [
    "class KITT:\n",
    "    def __init__(self, port, baudrate=115200):\n",
    "        self.serial = Serial(port, baudrate, rtscts=True)\n",
    "        \n",
    "    def send_command(self, command):\n",
    "        self.serial.write(command.encode())\n",
    "\n",
    "    def set_speed(self, speed):\n",
    "        self.send_command(f'M{speed}\\n')\n",
    "\n",
    "    def set_angle(self, angle):\n",
    "        self.send_command(f'D{angle}\\n')\n",
    "\n",
    "    def stop(self):\n",
    "        self.set_speed(150)\n",
    "        self.set_angle(150)\n",
    "\n",
    "    def __del__(self):\n",
    "        self.serial.close()\n"
   ]
  },
  {
   "cell_type": "code",
   "execution_count": 3,
   "metadata": {},
   "outputs": [],
   "source": [
    "def wasd_control(kitt):\n",
    "    print(\"Control the car with W (up), S (down), A (left), D (right), and Q to quit.\")\n",
    "    car_speed = 150\n",
    "    car_steering = 150\n",
    "    while True:\n",
    "        key_input = input()\n",
    "\n",
    "        if key_input == \"w\":\n",
    "            car_speed += 5\n",
    "        elif key_input == \"s\":\n",
    "            car_speed -= 5\n",
    "        elif key_input == \"a\":\n",
    "            car_steering += 5\n",
    "        elif key_input == \"d\":\n",
    "            car_steering -= 5\n",
    "        elif key_input == \"q\":\n",
    "            break\n",
    "\n",
    "        kitt.set_speed(car_speed)\n",
    "        kitt.set_angle(car_steering)\n",
    "        "
   ]
  },
  {
   "cell_type": "code",
   "execution_count": 4,
   "metadata": {},
   "outputs": [
    {
     "data": {
      "application/vnd.jupyter.widget-view+json": {
       "model_id": "d8b535abf15242bb8658150ddc310822",
       "version_major": 2,
       "version_minor": 0
      },
      "text/plain": [
       "VBox(children=(MultiCanvas(height=525, layout=Layout(height='525px', width='525px'), width=525),))"
      ]
     },
     "metadata": {},
     "output_type": "display_data"
    },
    {
     "name": "stdout",
     "output_type": "stream",
     "text": [
      "Control the car with W (up), S (down), A (left), D (right), and Q to quit.\n"
     ]
    }
   ],
   "source": [
    "# Example usage\n",
    "if __name__ == \"__main__\":\n",
    "    kitt = KITT('/dev/ttyUSB0')  # Replace with the actual port\n",
    "    wasd_control(kitt)"
   ]
  },
  {
   "cell_type": "markdown",
   "metadata": {},
   "source": [
    "(?? @Mano and @Yash add an example using the class and the functions and show the results on the GUI)"
   ]
  },
  {
   "cell_type": "markdown",
   "metadata": {},
   "source": [
    "#### To test the code with the real car\n",
    "\n",
    "Now you can check and see if you can also control the real car with the code you wrote. For that you only need to ... (?? @Mano can you complete this) "
   ]
  },
  {
   "cell_type": "markdown",
   "metadata": {},
   "source": [
    "#### Optional Extensions\n",
    "\n",
    "If you would like to go above and beyond with the task then below listed are a few tips which can help with extending the functionality of the program,\n",
    "\n",
    "- Add error handling: Currently, if there is an error with the Bluetooth connection or the serial communication, the program will simply crash. You could add some error handling to handle\n",
    "these cases more gracefully, such as printing an error message and exiting the program.\n",
    "- Add speed control: Currently, the program only supports moving the car forward or backward and turning left or right. You could add support for controlling the speed of the car, such as by\n",
    "sending different commands to the car depending on how long the user holds down the forward or backward keys.\n",
    "- Add an emergency stop: KITT doesn’t have a brake; the 150 speed setting lets KITT roll out to standstill, which might take a long distance. Add an emergency brake by letting KITT drive\n",
    "backwards for a short period of time. (You should first detect if the previous speed setting caused KITT to move forward. You need to define a state variable to memorize the speed setting.)\n",
    "\n"
   ]
  },
  {
   "cell_type": "markdown",
   "metadata": {},
   "source": [
    "#### Mid-term assessment and report\n",
    "After you finish this assignment, and ultimo in week 4, showcase the functionality of your script to your\n",
    "assigned TA. After you pass this assessment, you are ready to document your results in your midterm\n",
    "report.\n",
    "For this Module, you would include a chapter that covers the approach, implementation, testing and\n",
    "results of the basic controller.\n",
    "Remember to document your code, using comments to define input/output variables of functions and to\n",
    "explain the logic and any modifications made. Your completed script will be crucial for the upcoming\n",
    "challenges, contributing to the overall autonomous driving system.\n",
    "After you have completed this module and have tested all the components thoroughly, start on the second\n",
    "part of the communication script outlined in Module 2."
   ]
  },
  {
   "cell_type": "markdown",
   "metadata": {},
   "source": []
  },
  {
   "cell_type": "markdown",
   "metadata": {},
   "source": []
  },
  {
   "cell_type": "code",
   "execution_count": null,
   "metadata": {},
   "outputs": [],
   "source": []
  },
  {
   "cell_type": "code",
   "execution_count": null,
   "metadata": {},
   "outputs": [],
   "source": []
  },
  {
   "cell_type": "code",
   "execution_count": null,
   "metadata": {},
   "outputs": [],
   "source": []
  },
  {
   "cell_type": "code",
   "execution_count": 5,
   "metadata": {},
   "outputs": [
    {
     "data": {
      "image/png": "[encoded data removed]",
      "text/plain": [
       "<Figure size 1000x800 with 5 Axes>"
      ]
     },
     "metadata": {},
     "output_type": "display_data"
    }
   ],
   "source": [
    "import numpy as np\n",
    "import matplotlib.pyplot as plt\n",
    "\n",
    "def generate_pwm_waveform(duty_cycle, frequency=1, t_end=1, samples=1000):\n",
    "    \"\"\"\n",
    "    Generates a PWM signal.\n",
    "    Parameters:\n",
    "        duty_cycle (float): The duty cycle of the PWM signal (percentage of time signal is high).\n",
    "        frequency (float): The frequency of the PWM signal in Hz.\n",
    "        t_end (float): The end time for the generated signal.\n",
    "        samples (int): Number of samples in the generated signal.\n",
    "    Returns:\n",
    "        t (numpy array): Time vector.\n",
    "        pwm_signal (numpy array): The PWM signal.\n",
    "    \"\"\"\n",
    "    t = np.linspace(0, t_end, samples)\n",
    "    period = 1 / frequency\n",
    "    on_time = period * (duty_cycle / 100)\n",
    "    pwm_signal = (t % period < on_time).astype(float)\n",
    "    return t, pwm_signal\n",
    "\n",
    "\n",
    "frequency = 1  # Hz\n",
    "duty_cycles = [10, 30, 50, 70, 90]  # Different duty cycles\n",
    "\n",
    "plt.figure(figsize=(10, 8))\n",
    "\n",
    "# Generate and plot PWM for different duty cycles\n",
    "for i, duty_cycle in enumerate(duty_cycles, 1):\n",
    "    t, pwm_signal = generate_pwm_waveform(duty_cycle, frequency)\n",
    "    plt.subplot(len(duty_cycles), 1, i)\n",
    "    plt.plot(t, pwm_signal, drawstyle='steps-post')\n",
    "    plt.ylim(-0.2, 1.2)\n",
    "    plt.title(f'PWM Signal - Duty Cycle: {duty_cycle}%')\n",
    "    plt.ylabel('Amplitude')\n",
    "    plt.grid(True)\n",
    "\n",
    "plt.xlabel('Time (seconds)')\n",
    "plt.tight_layout()\n",
    "plt.show()"
   ]
  },
  {
   "cell_type": "code",
   "execution_count": 6,
   "metadata": {},
   "outputs": [
    {
     "ename": "SyntaxError",
     "evalue": "unterminated string literal (detected at line 5) (1745863047.py, line 5)",
     "output_type": "error",
     "traceback": [
      "\u001b[0;36m  Cell \u001b[0;32mIn[6], line 5\u001b[0;36m\u001b[0m\n\u001b[0;31m    To illustrate OOK using Python and matplotlib, I'll generate a simple OOK signal based on a digital binary input string. This example will help visualize how OOK transmits digital data.\u001b[0m\n\u001b[0m                                                    ^\u001b[0m\n\u001b[0;31mSyntaxError\u001b[0m\u001b[0;31m:\u001b[0m unterminated string literal (detected at line 5)\n"
     ]
    }
   ],
   "source": [
    "#### On-Off Keying (OOK) \n",
    "\n",
    "It is a simple form of amplitude-shift keying (ASK), which is a modulation technique used in digital communication. OOK represents digital data as the presence or absence of a carrier wave. In its simplest form, \"1\" is represented by the presence of the carrier (an \"on\" state), and \"0\" is represented by its absence (an \"off\" state).\n",
    "\n",
    "To illustrate OOK using Python and matplotlib, I'll generate a simple OOK signal based on a digital binary input string. This example will help visualize how OOK transmits digital data.\n"
   ]
  }
 ],
 "metadata": {
  "kernelspec": {
   "display_name": "Python 3 (ipykernel)",
   "language": "python",
   "name": "python3"
  },
  "language_info": {
   "codemirror_mode": {
    "name": "ipython",
    "version": 3
   },
   "file_extension": ".py",
   "mimetype": "text/x-python",
   "name": "python",
   "nbconvert_exporter": "python",
   "pygments_lexer": "ipython3",
   "version": "3.11.9"
  },
  "widgets": {
   "application/vnd.jupyter.widget-state+json": {
    "state": {},
    "version_major": 2,
    "version_minor": 0
   }
  }
 },
 "nbformat": 4,
 "nbformat_minor": 4
}
