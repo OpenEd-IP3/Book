{
 "cells": [
  {
   "cell_type": "markdown",
   "metadata": {},
   "source": [
    "![book header](pictures/header.png)"
   ]
  },
  {
   "cell_type": "markdown",
   "metadata": {},
   "source": [
    "# Before We Start\n",
    "\n",
    "## Getting to know your team\n",
    "\n",
    "To form a team with new people is not always easy. Let’s start with a simple task: filling out a document together. Please look on Brightspace for the document *epo4_kickoff.docx*. The document asks questions about how you want to collaborate as a team. Submit the document in your Brightspace assignment folder.\n",
    "\n",
    "Also refer to Appendix D, which describes Scrum, a technique for (ICT) project management. You should find ways to brainstorm as a team, find possible approaches to a problem (analyze the problem first!), and keep everyone busy, involved, and synchronized.\n",
    "\n",
    "One thing to decide is to form two sub-groups: one that will work on localization (Module 3) and the other to work on the car interface (Modules 1 and 2). After these modules are finished, Module 4 (car model) must be completed, and the mid-term report must be written according to the guidelines in Chapter Midterm.\n",
    "\n",
    "Before we can start doing anything, you need to set up your programming environment in Python.  If you have not done so before, this chapter will guide you on the essential steps to installing Python on your laptop or PC.  We also need an Integrated Development Environment (IDE), and some required packages for the project.\n",
    "\n",
    "We will use Object-Oriented Programming (OOP), and the keyboard and timer package, a short tutorial is provided here as well.\n",
    "\n",
    "## Installing Python\n",
    "\n",
    "The first step in setting up your Python environment is to install the Python interpreter. The installation process is slightly different for Windows, Linux, and Mac. For the best compatibility, everyone on the team should install the same version of Python. As of 2024, it is recommended that Python 3.12 be installed.\n",
    "\n",
    "### Windows\n",
    "\n",
    "For Windows users, follow these steps to install Python:\n",
    "\n",
    "1. Open the Microsoft store, and search for \"Python\". Install the latest version.\n",
    "2. To verify the installation, open a command prompt and type:\n",
    "```{code-cell}\n",
    "python --version\n",
    "```\n",
    "This should display the installed Python version. Please verify that the installed version matches the one you downloaded from the Microsoft store. If not, follow this tutorial: [How to add Python to PATH](https://realpython.com/add-python-to-path/), or ask a TA for help. \n",
    "\n",
    "### macOS\n",
    "\n",
    "For macOS users, an old version of Python is pre-installed, do not use this. Python3 needs to be installed, for this follow these steps:\n",
    "\n",
    "1. Open your web browser and navigate to the official Python website at [Pythonwebsite](https://www.python.org/downloads/).\n",
    "\n",
    "2. Click on the ''Downloads'' tab, and you will see a button for the latest version of Python. Click on it to initiate the download.\n",
    "\n",
    "3. Once the installer is downloaded, run the executable file. The installer will walk you through a wizard to complete the installation, and in most cases, the default settings work well, so install it like the other applications on macOS. You may also have to enter your Mac password to let it know that you agree with installing Python. \n",
    "\n",
    "4. To verify the installation, open a command prompt and type:\n",
    "\n",
    "```{code-cell}\n",
    "python3 --version\n",
    "```\n",
    "\n",
    "### Linux\n",
    "\n",
    "For Linux users, an old version of Python is often pre-installed, do not use this. You can use the package manager specific to your distribution to install Python. Follow these steps:\n",
    "\n",
    "1. Open a terminal.\n",
    "    \n",
    "2. Update your package manager's repository information:\n",
    "    \n",
    "```{code-cell}\n",
    "    sudo apt update  # For Debian/Ubuntu\n",
    "```    \n",
    "3. Install Python:\n",
    "    \n",
    "```{code-cell}\n",
    "    sudo apt install python3  # For Debian/Ubuntu\n",
    "```\n",
    "    \n",
    "4. To verify the installation, type:\n",
    "    \n",
    "```{code-cell}\n",
    "    python3 --version\n",
    "```\n",
    "    \n",
    "This should display the installed Python version.\n",
    "\n",
    "## Installing an IDE\n",
    "\n",
    "It is recommended that you use Visual Studio Code (VSCode) as your Integrated Development Environment (IDE). VSCode is a free, open-source code editor developed by Microsoft with a wide range of extensions and excellent Python support.\n",
    "\n",
    "Please note that you are allowed to use another IDE, such as PyCharm (you can get a premium account using your @student.tudelft.nl email address).\n",
    "\n",
    "### Windows, macOS, and Linux\n",
    "\n",
    "1. Open your web browser and navigate to the official VSCode website at [VSCode](https://code.visualstudio.com/).\n",
    "    \n",
    "2. Click on the \"Download\" button to download the installer suitable for your operating system.\n",
    "    \n",
    "3. Once the installer is downloaded, run it to start the installation process.\n",
    "    \n",
    "4. Follow the on-screen instructions to complete the installation. You can choose the default settings unless you have specific preferences.\n",
    "    \n",
    "5. After the installation is complete, open Visual Studio Code.\n",
    "\n",
    "### Installing Python extension for VSCode\n",
    "\n",
    "VSCode is very popular because of its use of extensions. This makes it compatible with almost any programming language or development board (such as Arduino). In our case, you have to add Python support to the IDE. Follow these steps:\n",
    "\n",
    "1. Open VSCode.\n",
    "    \n",
    "2. Go to the Extensions view by clicking on the Extensions icon in the Activity Bar on the side of the window.\n",
    "    \n",
    "3. In the Extensions view search bar, type ''Python''.\n",
    "    \n",
    "4. Look for the official Python extension by Microsoft and click ''Install''. This extension provides enhanced support for Python development.\n",
    "    \n",
    "5. After installation, you may need to reload VSCode to activate the Python extension fully.\n",
    "\n",
    "## Installing required packages\n",
    "\n",
    "Python is a well supported language with many possibilities. These possibilities come from the many libraries and packages that are built by users. Because we do not want to rewrite all the essentials, we will use a list of required packages that every user has to install. \n",
    "\n",
    "To install these packages, go to the directory were you want to work on EPO-4. In this directory paste the \"requirements.txt\" file from Brightspace. Follow the instructions based on your system:\n",
    "\n",
    "### For Windows 11:\n",
    "\n",
    "Open a terminal in your EPO-4 directory and run the following command:\n",
    "```{code-cell}\n",
    "pip install -r requirements_student.txt\n",
    "```\n",
    "\n",
    "### For Windows 10:\n",
    "\n",
    "Open a terminal in your EPO-4 directory and run the following command:\n",
    "```{code-cell}\n",
    "pip install -r requirements_student.txt\n",
    "```\n",
    "The appropriate sound card driver must be used to use the microphone array. The soundcard used in EPO-4 is a PreSonus AudioBox 1818VSL. On Windows 10, it is necessary to install ASIO4ALL [ASIO4ALL](https://www.asio4all.org/) and a build of PyAudio compiled with ASIO support [PyAudio](https://www.lfd.uci.edu/~gohlke/pythonlibs/#pyaudio).\n",
    "\n",
    "### For MacOS:\n",
    "\n",
    "Open a terminal and install Homebrew using:\n",
    "\n",
    "```{code-cell}\n",
    "/bin/bash -c \"$(curl -fsSL https://raw.githubusercontent.com/Homebrew/install/HEAD/install.sh)\"\n",
    "```\n",
    "\n",
    "It will ask you for confirmation, and your password. If prompted run the follow up commands.\n",
    "Afterwards, install portAudio using Homebrew, this fills the gaps in some packages that are needed to use the microphones: \n",
    "```{code-cell}\n",
    "brew install portaudio\n",
    "```\n",
    "Open a terminal in your EPO-4 directory and run the following command:\n",
    "\n",
    "```{code-cell}\n",
    "pip3 install -r requirements_student.txt\n",
    "```\n",
    "\n",
    "### For Linux:\n",
    "\n",
    "Open a terminal in your EPO-4 directory and run the following command:\n",
    "```{code-cell}\n",
    "pip3 install -r requirements_student.txt\n",
    "```\n",
    "\n",
    "## Object-Oriented Programming in EPO-4\n",
    "\n",
    "Throughout the project, you will write over 20 functions and a couple hundred lines of code. As you will find, there is exponential difficulty with the increase in project size. Writing many functions is part of the assignment, but the challenge is testing these functions and getting them to work together. You must communicate with the car and interpret the data received, accurately find the car's location, plan how to drive to the final destination, generate steering commands, and adjust the plan while you drive and discover objects. \n",
    "\n",
    "This tutorial introduces object-oriented programming (OOP) concepts in Python, which is a programming method that provides flexibility. It is highly recommended that you learn how to use OOP, which will be useful throughout this project and future projects. You can find the code used in this tutorial on Brightspace. The manual will provide code examples, assuming you understand basic OOP concepts to enhance the functionality of the KITT car project.\n",
    "\n",
    "### Class and object\n",
    "In OOP, a class is a template or a set of instructions for creating objects. On the other hand, an object is a specific instance or realization of that template. To illustrate, let's make a blueprint for KITT using a class.\n"
   ]
  },
  {
   "cell_type": "code",
   "execution_count": 23,
   "metadata": {},
   "outputs": [],
   "source": [
    "class KITT:\n",
    "    def __init__(self, model, color):\n",
    "        self.model = model\n",
    "        self.color = color\n",
    "        self.is_engine_on = False\n",
    "\n",
    "    def start_engine(self):\n",
    "        self.is_engine_on = True\n",
    "        print(f\"{self.model}'s engine started.\")\n",
    "\n",
    "    def stop_engine(self):\n",
    "        self.is_engine_on = False\n",
    "        print(f\"{self.model}'s engine stopped.\")"
   ]
  },
  {
   "cell_type": "markdown",
   "metadata": {},
   "source": [
    "**Attributes:** These are characteristics or properties that describe the state of an object. In the real world, consider attributes as the features defining an object. In the class definition, attributes are represented by variables. In the example, we have defined a class 'KITT' with attributes 'model', 'color', and 'is_engine_on'. Which are just some characteristic of KITT we could define.\n",
    "\n",
    "**Methods:** These are functions that define the behavior of an object. They represent the actions that an object can perform. Methods are defined within the class and are used to manipulate the object's state (attributes) or perform some action associated with the object. Continuing with the car example, the methods 'start_engine' and 'stop_engine' control the car's engine.\n",
    "\n",
    "**Self:** Within the class definition, `self' is used to refer to the object. \n",
    "\n",
    "**The __init__ method** is a special method called the constructor. It is automatically called when a new object is created. In this method, we initialize the *model*, *color*, and *is_engine_on* variables to the values passed.\n",
    "\n",
    "We can now make some instances of the class KITT. We call these objects."
   ]
  },
  {
   "cell_type": "code",
   "execution_count": 24,
   "metadata": {},
   "outputs": [
    {
     "name": "stdout",
     "output_type": "stream",
     "text": [
      "TRX4's engine started.\n",
      "True\n",
      "TRX4\n",
      "black\n"
     ]
    }
   ],
   "source": [
    "if __name__ == \"__main__\":\n",
    "    car1 = KITT(\"TRX4\", \"black\")   # Make the first instance of KITT\n",
    "    car2 = KITT(\"Rustler\", \"red\")  # Make the second instance of KITT\n",
    "\n",
    "    car2.color = \"blue\"            # Change the color of car2\n",
    "    \n",
    "    car1.start_engine()             # Start the engine of car1       \n",
    "    print(car1.is_engine_on)        # Output: \"True\"\n",
    "    print(car1.model)               # Output: \"TRX4\"\n",
    "    print(car1.color)               # Output: \"black\""
   ]
  },
  {
   "cell_type": "markdown",
   "metadata": {},
   "source": [
    "First, two instances of KITT are made. They are made from the same KITT class (template) but are a different model and color. These are stored as attributes to the instance (also called object). It is possible to change an attribute of an object after it has been made. In this example, the color of the second car is changed to blue. The state of the engine is also stored as an attribute. It is defaulted to False (the engine is off). Now, the engine of car1 is started. When checked, car1 outputs that the engine is now set to on. \n",
    "\n",
    "### Method vs Function\n",
    "\n",
    "In Python, both methods and functions are blocks of code that can be called upon to perform specific tasks. However, there are fundamental differences between the two.\n",
    "\n",
    "#### Function:\n",
    "\n",
    "A function is a block of code that is defined outside of a class and can be called independently. It takes input arguments (if any), performs some operations, and optionally returns a result. Functions in Python are versatile and can be reused across different parts of a program.\n",
    "\n",
    "#### Method:\n",
    "\n",
    "A method, on the other hand, is a function that is associated with an object. It is defined within a class and operates on the data associated with the class (attributes). Methods are accessed through instances of the class (objects) and can modify the state of the object. The first argument of a method is always the special variable 'self', which refers to the instance of the class."
   ]
  },
  {
   "cell_type": "code",
   "execution_count": 25,
   "metadata": {},
   "outputs": [
    {
     "name": "stdout",
     "output_type": "stream",
     "text": [
      "TRX4's engine started.\n",
      "KITT is driving.\n"
     ]
    }
   ],
   "source": [
    "class KITT:\n",
    "    def __init__(self, model, color):\n",
    "        self.model = model\n",
    "        self.color = color\n",
    "        self.is_engine_on = False\n",
    "\n",
    "    def start_engine(self):\n",
    "        self.is_engine_on = True\n",
    "        print(f\"{self.model}'s engine started.\")\n",
    "\n",
    "    def stop_engine(self):\n",
    "        self.is_engine_on = False\n",
    "        print(f\"{self.model}'s engine stopped.\")\n",
    "\n",
    "def drive():\n",
    "    print(\"KITT is driving.\")\n",
    "\n",
    "if __name__ == \"__main__\":\n",
    "    car = KITT(\"TRX4\", \"black\")   # Create an instance of KITT\n",
    "    car.start_engine()             # Call the start_engine method\n",
    "    drive()                        # Call the drive function"
   ]
  },
  {
   "cell_type": "markdown",
   "metadata": {},
   "source": [
    "In this example, 'start_engine' and 'stop_engine' are methods because they are defined within the KITT class and operate on the KITT object's state. On the other hand, 'drive' is a function defined outside of the class and can be called independently.\n",
    "\n",
    "### Hidden and Private variables\n",
    "\n",
    "In object-oriented programming, there are concepts of encapsulation and data hiding, which allow for better control over the accessibility of attributes and methods within a class. This helps in preventing accidental modification of data and ensures the integrity of the class.\n",
    "\n",
    "#### Hidden variables\n",
    "\n",
    "In Python, variables and methods can be hidden from the outside world using a single underscore (_) prefix. Although they can still be accessed, it indicates to other programmers that these elements are intended for internal use and should be treated as such."
   ]
  },
  {
   "cell_type": "code",
   "execution_count": 26,
   "metadata": {},
   "outputs": [],
   "source": [
    "class KITT:\n",
    "    def __init__(self, model, color):\n",
    "        self.model = model\n",
    "        self.color = color\n",
    "        self._is_engine_on = False  # Hidden variable\n",
    "\n",
    "    def start_engine(self):\n",
    "        self._is_engine_on = True\n",
    "        print(f\"{self.model}'s engine started.\")\n",
    "\n",
    "    def stop_engine(self):\n",
    "        self._is_engine_on = False\n",
    "        print(f\"{self.model}'s engine stopped.\")"
   ]
  },
  {
   "cell_type": "markdown",
   "metadata": {},
   "source": [
    "In this modified version of the KITT class, the variable *_is_engine_on* is prefixed with a single underscore. This indicates that it's a hidden variable. While it can still be accessed from outside the class, the underscore serves as a convention to signal that it's intended for internal use.\n",
    "\n",
    "#### Private variables\n",
    "\n",
    "Python also supports the concept of private variables, which are variables that cannot be accessed or modified from outside the class. They are denoted by a double underscore (__) prefix."
   ]
  },
  {
   "cell_type": "code",
   "execution_count": 27,
   "metadata": {},
   "outputs": [],
   "source": [
    "class KITT:\n",
    "    def __init__(self, model, color):\n",
    "        self.model = model\n",
    "        self.color = color\n",
    "        self.__is_locked = True  # Private variable\n",
    "\n",
    "    def lock_car(self):\n",
    "        self.__is_locked = True\n",
    "        print(f\"{self.model} is locked.\")\n",
    "\n",
    "    def unlock_car(self):\n",
    "        self.__is_locked = False\n",
    "        print(f\"{self.model} is unlocked.\")"
   ]
  },
  {
   "cell_type": "markdown",
   "metadata": {},
   "source": [
    "In this version, the variable *__is_locked* is prefixed with a double underscore, making it a private variable. Private variables cannot be accessed directly from outside the class. Attempting to do so will result in an AttributeError. Special methods should be made to modify these variables called getters and setters.\n",
    "\n",
    "### Getters and Setters\n",
    "\n",
    "In object-oriented programming, getters and setters are methods used to access and modify the private or hidden variables of a class, respectively. They provide controlled access to the class's attributes, allowing for validation and encapsulation of data.\n",
    "\n",
    "#### Getters:\n",
    "\n",
    "Getters are methods used to retrieve the values of private or hidden variables. They provide a way to access the state of an object without directly exposing its attributes."
   ]
  },
  {
   "cell_type": "code",
   "execution_count": 28,
   "metadata": {},
   "outputs": [],
   "source": [
    "class KITT:\n",
    "    def __init__(self, model, color):\n",
    "        self.model = model\n",
    "        self.color = color\n",
    "        self.__is_locked = True\n",
    "\n",
    "    # Getter for is_locked\n",
    "    def is_locked(self):\n",
    "        return self.__is_locked"
   ]
  },
  {
   "cell_type": "markdown",
   "metadata": {},
   "source": [
    "In this modified KITT class, a getter method *is_locked()* is added to retrieve the value of the private variable *__is_locked*.\n",
    "\n",
    "#### Setters:\n",
    "\n",
    "Setters are methods used to modify the values of private or hidden variables. They provide a way to update the state of an object while enforcing validation rules or constraints. For example:"
   ]
  },
  {
   "cell_type": "code",
   "execution_count": 29,
   "metadata": {},
   "outputs": [],
   "source": [
    "class KITT:\n",
    "    def __init__(self, model, color):\n",
    "        self.model = model\n",
    "        self.color = color\n",
    "        self.__is_locked = True\n",
    "\n",
    "    # Getter for is_locked\n",
    "    def is_locked(self):\n",
    "        return self.__is_locked\n",
    "\n",
    "    # Setter for is_locked\n",
    "    def set_lock_status(self):\n",
    "        if self.__is_locked:\n",
    "            self.__is_locked = False\n",
    "            print(f\"{self.model} is unlocked.\")\n",
    "        else:\n",
    "            self.__is_locked = True\n",
    "            print(f\"{self.model} is locked.\")"
   ]
  },
  {
   "cell_type": "markdown",
   "metadata": {},
   "source": [
    "In this updated KITT class, a setter method *set_lock_status()* is added to modify the value of the private variable *__is_locked*. This setter will automatically switch the locked state of the car. If it was unlocked, it locks the car, and vice verso. \n",
    "\n",
    "**Example:**"
   ]
  },
  {
   "cell_type": "code",
   "execution_count": 30,
   "metadata": {},
   "outputs": [
    {
     "name": "stdout",
     "output_type": "stream",
     "text": [
      "True\n",
      "TRX4 is unlocked.\n"
     ]
    }
   ],
   "source": [
    "if __name__ == \"__main__\":\n",
    "    car = KITT(\"TRX4\", \"black\")   # Create an instance of KITT\n",
    "\n",
    "    # Using getter to check if the car is locked\n",
    "    print(car.is_locked())        # Output: True\n",
    "\n",
    "    # Using setter to unlock the car\n",
    "    car.set_lock_status()    # Output: \"TRX4 is unlocked.\""
   ]
  },
  {
   "cell_type": "markdown",
   "metadata": {},
   "source": [
    "In this example, first the getter method *is_locked()* is called to check if the car is locked. Then, the setter method *set_lock_status()* is called to change the lock status, because the car when initiated is locked, it is now unlocked.\n",
    "\n",
    "## Programming in Python\n",
    "\n",
    "### Hints on programming\n",
    "\n",
    "The above tutorial briefly introduced OOP in Python and demonstrated its application in the KITT car project. However, some of these concepts can be abstract when first introduced. Therefore, you should look for more resources as you experiment with OOP.\n",
    "\n",
    "- When writing the code to implement functionalities required for this project, partition the code into separate functions and always include a header block with a function. In this header block, you should briefly describe the function, the required inputs, and what the output will do. Including a changelog with author names and dates is also good practice.\n",
    "- Use meaningful variable names and write many comments so that others can understand what the code is doing.\n",
    "- Define variables for constants such as \\verb|Fs| rather than using numbers throughout the code. That way, you give meaning to that number; if the number changes, you have to change it only at a single location.\n",
    "- Avoid the use of globals. If a function needs a parameter, include it in the function call. If you must use globals, write the variable names in capitals. The risk of using globals is that if their value changes, it affects functions that depend on them while that dependency is hidden.\n",
    "- When writing your code, be sure to decouple each function, test it separately, and briefly report on these tests. If you run into any problems further down the design process, finding where functions might not agree and where your problem could lie will be easier.\n",
    "\n",
    "The test itself should also be in a script, so that you can frequently rerun it in case some of the functions have changed and need to be tested again. \n",
    "- In your report, describe the overall structure of the code and the main variables so that others can quickly find their way into your code.\n",
    "- Test every function in your code! For every `if' statement in the code, you have two branches to test.\n",
    "\n",
    "### Useful modules\n",
    "\n",
    "**Time measurement in Python** In EPO-4, accurately measuring time is crucial for various tasks such as determining the duration of events or operations. Python provides the *time* package, which offeers functionality to measure time intervals.\n",
    "\n",
    "To measure time intervals using *time* package, follow these steps:"
   ]
  },
  {
   "cell_type": "code",
   "execution_count": 31,
   "metadata": {},
   "outputs": [
    {
     "name": "stdout",
     "output_type": "stream",
     "text": [
      "The operation lasted for 0.04701089859008789 seconds.\n"
     ]
    }
   ],
   "source": [
    "import time\n",
    "\n",
    "# Record the start time\n",
    "start = time.time()\n",
    "\n",
    "# Perform an operation or task\n",
    "# For example, simulate a computational task\n",
    "for _ in range(1000000):\n",
    "    pass\n",
    "\n",
    "# Record the end time\n",
    "end = time.time()\n",
    "\n",
    "# Calculate the duration of the operation\n",
    "duration = end - start\n",
    "\n",
    "# Print the duration\n",
    "print(f\"The operation lasted for {duration} seconds.\")"
   ]
  },
  {
   "cell_type": "markdown",
   "metadata": {},
   "source": [
    "In this code snippet, the *time* package was imported. The *time.time()* function returns your computers time in seconds. The *time.time()*  is called to record the start time before executing the operation. After completing the operation, the end time is recorded. By subtracting the start time from the end time, the duration of the operation is calculated.\n",
    "\n",
    "**Detecting Keyboard events in Python**  In module 1, you will be tasked with controlling the car from your keyboard. For this you will need to detect keyboard events, such as key presses. \n",
    "\n",
    "To detect keyboard events using the *keyboard* library, follow these steps:"
   ]
  },
  {
   "cell_type": "code",
   "execution_count": 32,
   "metadata": {},
   "outputs": [
    {
     "name": "stdout",
     "output_type": "stream",
     "text": [
      "Key 'enter' pressed.\n"
     ]
    },
    {
     "data": {
      "text/plain": [
       "''"
      ]
     },
     "execution_count": 32,
     "metadata": {},
     "output_type": "execute_result"
    },
    {
     "name": "stdout",
     "output_type": "stream",
     "text": [
      "Key 'ctrl' pressed.\n",
      "Key 's' pressed.\n"
     ]
    }
   ],
   "source": [
    "import keyboard\n",
    "\n",
    "# Define a callback function to handle key events\n",
    "def on_key_event(event):\n",
    "    if event.event_type == keyboard.KEY_DOWN:\n",
    "        print(f\"Key '{event.name}' pressed.\")\n",
    "\n",
    "# Register the callback function for key events\n",
    "keyboard.on_press(on_key_event)\n",
    "\n",
    "# Keep the program running to capture key events\n",
    "# Use a loop or a blocking function call, or simply wait\n",
    "input(\"Press Enter to exit...\")"
   ]
  },
  {
   "cell_type": "markdown",
   "metadata": {},
   "source": [
    "In this code snippet, the *keyboard* library is imported. A callback function *on_key_event* is defined to handle key events, this function will be called automatically if a key press is detected. Inside the callback function, the program checks if the event type is *KEY_DOWN*, indicating that a key is pressed. \n",
    "\n",
    "For this, you need to register the callback function using *keyboard.on_press()*. This function sets up a listener for key press events and calls the specified callback function whenever a key is pressed.\n",
    "\n",
    "Finally, to keep the program running and capture key events continuously, input prompt is defined to wait for user input. You can exit the program by pressing the Enter key.\n",
    "\n",
    "**Note:**\n",
    "\n",
    "The *keyboard* library provides various functions and event types for handling keyboard events, including key presses, releases and combinations."
   ]
  }
 ],
 "metadata": {
  "kernelspec": {
   "display_name": "opened",
   "language": "python",
   "name": "python3"
  },
  "language_info": {
   "codemirror_mode": {
    "name": "ipython",
    "version": 3
   },
   "file_extension": ".py",
   "mimetype": "text/x-python",
   "name": "python",
   "nbconvert_exporter": "python",
   "pygments_lexer": "ipython3",
   "version": "3.11.9"
  }
 },
 "nbformat": 4,
 "nbformat_minor": 2
}
