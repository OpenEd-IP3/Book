{
 "cells": [
  {
   "cell_type": "markdown",
   "metadata": {},
   "source": [
    "![book header](pictures/header.png)"
   ]
  },
  {
   "cell_type": "markdown",
   "metadata": {},
   "source": [
    "# Installation Guide for Windows\n",
    "\n",
    "As everyone is transitioning to Windows 11, this installation guide focuses on setting up the environment on Windows 11. The guide is also applicable to Windows 10, but some steps may differ slightly, we have added differing instructions whenever required.\n",
    "\n",
    "## Installing Python\n",
    "\n",
    "The first step in setting up your Python environment is to install the Python interpreter. For the best compatibility, everyone on the team should install the same version of Python. As of 2024, it is recommended that Python 3.12 be installed. The KITT simulator requires a Python version of 3.10 or newer, so any version older than 3.10 is strongly discouraged.\n",
    "\n",
    "1. Open the Microsoft store, and search for \"Python\". Install version 3.12.\n",
    "2. To verify the installation, open a command prompt (Press the Windows key, type `cmd`, and hit enter) and type:\n",
    "```{code-cell}\n",
    "python --version\n",
    "```\n",
    "This should display the installed Python version. Please verify that the installed version matches the one you downloaded from the Microsoft store. If not, follow this tutorial: [How to add Python to PATH](https://realpython.com/add-python-to-path/), or ask a TA for help.\n",
    "\n",
    "## Installing Visual Studio Code\n",
    "\n",
    "It is recommended that you use Visual Studio Code (VSCode) as your Integrated Development Environment (IDE). VSCode is a free, open-source code editor developed by Microsoft with a wide range of extensions and excellent Python support.\n",
    "\n",
    "1. Open your web browser and navigate to the official VSCode website at [VSCode](https://code.visualstudio.com/).\n",
    "    \n",
    "2. Click on the \"Download\" button to download the installer suitable for your operating system.\n",
    "    \n",
    "3. Once the installer is downloaded, run it to start the installation process.\n",
    "    \n",
    "4. Follow the on-screen instructions to complete the installation. You can choose the default settings unless you have specific preferences.\n",
    "    \n",
    "5. After the installation is complete, open Visual Studio Code.\n",
    "\n",
    "### Installing Python extension for VSCode\n",
    "\n",
    "VSCode is very popular because of its use of extensions. This makes it compatible with almost any programming language or development board (such as Arduino). In our case, you have to add Python support to the IDE. Follow these steps:\n",
    "\n",
    "1. Open VSCode.\n",
    "    \n",
    "2. Go to the Extensions view by clicking on the Extensions icon in the Activity Bar on the side of the window or pressing Control+Shift+X.\n",
    "    \n",
    "3. In the Extensions view search bar, type ''Python''.\n",
    "    \n",
    "4. Look for the official Python extension by Microsoft and click ''Install''. This extension provides enhanced support for Python development.\n",
    "\n",
    "5. Also install the ''Jupyter'' extension in the same way.\n",
    "    \n",
    "6. After installation, you may need to reload VSCode to activate the Python extension fully."
   ]
  }
 ],
 "metadata": {
  "kernelspec": {
   "display_name": "OpenEdVenv",
   "language": "python",
   "name": "python3"
  },
  "language_info": {
   "codemirror_mode": {
    "name": "ipython",
    "version": 3
   },
   "file_extension": ".py",
   "mimetype": "text/x-python",
   "name": "python",
   "nbconvert_exporter": "python",
   "pygments_lexer": "ipython3",
   "version": "3.12.6"
  }
 },
 "nbformat": 4,
 "nbformat_minor": 2
}
