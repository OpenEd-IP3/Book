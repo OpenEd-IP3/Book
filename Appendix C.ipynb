{
 "cells": [
  {
   "cell_type": "markdown",
   "metadata": {},
   "source": [
    "# Time Difference of Arrival (TDOA) algorithm\n",
    "\n",
    "Let $\\mathbf{x} = \\begin{bmatrix} x \\\\ y \\end{bmatrix}$ be the location of the car, and call $\\bx_i =\n",
    "    [x_i,y_i]^T, i = 1, \\cdots, N$"
   ]
  }
 ],
 "metadata": {
  "language_info": {
   "name": "python"
  }
 },
 "nbformat": 4,
 "nbformat_minor": 2
}
