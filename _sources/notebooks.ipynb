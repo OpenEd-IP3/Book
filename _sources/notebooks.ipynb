{
 "cells": [
  {
   "cell_type": "markdown",
   "metadata": {},
   "source": [
    "# Module 1 - Connecting with and Controlling KITT\n",
    "\n",
    "This is just a trial to check how the notebooks are used in the jupyter-book.\n",
    "\n",
    "## Brief Overview\n",
    "\n",
    "KITT is a remotely controlled vehicle. To allow for this remote control, a wireless link must be used.\n",
    "Over this wireless link, control commands can be sent from the base station (your computer) to KITT.\n",
    "This wireless link also facilitates requests for data from KITT and KITT’s data in response to these\n",
    "requests.\n",
    "This project requires you to maneuver KITT in all sorts of ways. In this module, you will set up a\n",
    "connection to KITT and work with basic controls to allow for more advanced actions later on.\n",
    "This module starts with an assignment to get to know your team, set up your development environment,\n",
    "and start working with the car.\n",
    "\n",
    "\n",
    "\n",
    "<!-- As it is markdown, you can embed images, HTML, etc into your posts!\n",
    "\n",
    "![](https://myst-parser.readthedocs.io/en/latest/_static/logo-wide.svg) -->\n",
    "\n",
    "<!-- You can also $add_{math}$ and\n",
    "\n",
    "$$\n",
    "math^{blocks}\n",
    "$$\n",
    "\n",
    "or\n",
    "\n",
    "$$\n",
    "\\begin{aligned}\n",
    "\\mbox{mean} la_{tex} \\\\ \\\\\n",
    "math blocks\n",
    "\\end{aligned}\n",
    "$$\n",
    "\n",
    "But make sure you \\$Escape \\$your \\$dollar signs \\$you want to keep! -->\n",
    "\n",
    "<!-- ## MyST markdown\n",
    "\n",
    "MyST markdown works in Jupyter Notebooks as well. For more information about MyST markdown, check\n",
    "out [the MyST guide in Jupyter Book](https://jupyterbook.org/content/myst.html),\n",
    "or see [the MyST markdown documentation](https://myst-parser.readthedocs.io/en/latest/).\n",
    "\n",
    "## Code blocks and outputs -->\n",
    "\n",
    "Jupyter Book will also embed your code blocks and output in your book.\n",
    "For example, here's some sample Matplotlib code:"
   ]
  },
  {
   "cell_type": "code",
   "execution_count": 16,
   "metadata": {},
   "outputs": [],
   "source": [
    "\n",
    "import serial\n",
    "import keyboard \n",
    "import numpy as np\n",
    "import matplotlib.pyplot as plt"
   ]
  },
  {
   "cell_type": "code",
   "execution_count": 11,
   "metadata": {},
   "outputs": [],
   "source": [
    "\n",
    "\n",
    "class KITT:\n",
    "    def __init__(self, port, baudrate=115200):\n",
    "        self.serial = serial.Serial(port, baudrate, rtscts=True)\n",
    "        \n",
    "    def send_command(self, command):\n",
    "        self.serial.write(command.encode())\n",
    "\n",
    "    def set_speed(self, speed):\n",
    "        self.send_command(f'M{speed}\\n')\n",
    "\n",
    "    def set_angle(self, angle):\n",
    "        self.send_command(f'D{angle}\\n')\n",
    "\n",
    "    def stop(self):\n",
    "        self.set_speed(150)\n",
    "        self.set_angle(150)\n",
    "\n",
    "    def __del__(self):\n",
    "        self.serial.close()\n",
    "\n",
    "def wasd(kitt):\n",
    "    # add your code\n",
    "\n",
    "    if __name__ == \"__main__\":\n",
    "        kitt_instance = KITT(\"your_port_here\")\n",
    "        wasd(kitt_instance)"
   ]
  },
  {
   "cell_type": "code",
   "execution_count": 17,
   "metadata": {},
   "outputs": [
    {
     "data": {
      "image/png": "[encoded data removed]",
      "text/plain": [
       "<Figure size 200x100 with 1 Axes>"
      ]
     },
     "metadata": {},
     "output_type": "display_data"
    }
   ],
   "source": [
    "def func(T):\n",
    "    return T**2\n",
    "\n",
    "# the values of T that are considered\n",
    "T_range = np.arange(0,5+0.25,0.25)\n",
    "\n",
    "# the y-values for each T\n",
    "y = [func(T) for T in T_range]\n",
    "\n",
    "# and plot in a small figure\n",
    "plt.figure(figsize = (2,1))\n",
    "plt.plot(T_range,y);"
   ]
  },
  {
   "cell_type": "markdown",
   "metadata": {},
   "source": [
    "There is a lot more that you can do with outputs (such as including interactive outputs)\n",
    "with your book. For more information about this, see [the Jupyter Book documentation](https://jupyterbook.org)"
   ]
  }
 ],
 "metadata": {
  "kernelspec": {
   "display_name": "Python 3",
   "language": "python",
   "name": "python3"
  },
  "language_info": {
   "codemirror_mode": {
    "name": "ipython",
    "version": 3
   },
   "file_extension": ".py",
   "mimetype": "text/x-python",
   "name": "python",
   "nbconvert_exporter": "python",
   "pygments_lexer": "ipython3",
   "version": "3.11.5"
  },
  "widgets": {
   "application/vnd.jupyter.widget-state+json": {
    "state": {},
    "version_major": 2,
    "version_minor": 0
   }
  }
 },
 "nbformat": 4,
 "nbformat_minor": 4
}
