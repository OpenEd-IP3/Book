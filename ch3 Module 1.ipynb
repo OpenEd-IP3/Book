{
 "cells": [
  {
   "cell_type": "markdown",
   "metadata": {},
   "source": [
    "![book header](header.png)"
   ]
  },
  {
   "cell_type": "code",
   "execution_count": 2,
   "metadata": {},
   "outputs": [],
   "source": [
    "import time\n",
    "from pynput import keyboard\n",
    "import numpy as np\n",
    "import matplotlib.pyplot as plt\n",
    "# from serial import Serial # Uncomment this line if you are using the real car\n",
    "from KITT_Simulator.serial_simulator import Serial # Uncomment this line if you are using the simulator"
   ]
  },
  {
   "cell_type": "markdown",
   "metadata": {},
   "source": []
  },
  {
   "cell_type": "markdown",
   "metadata": {
    "id": "O6BdtZIAIZKr"
   },
   "source": [
    "# Module 1 - Connecting with and Controlling KITT\n",
    "\n",
    "In this module we will start working with the car simulator and the car.\n",
    "We will start with providing an overview and a brief description on getting to know the vehicle and implementing some basic control scripts."
   ]
  },
  {
   "cell_type": "markdown",
   "metadata": {
    "jp-MarkdownHeadingCollapsed": true
   },
   "source": [
    "\n",
    "\n",
    "## Brief Overview\n",
    "\n",
    "KITT is a small vehicle that you can control remotely, in manyways similar to a typical RC car. While traditional RC cars usually come with a joystick for control, this project has adapted the car so that you can use your computer instead. So for the manual control instead of using a joystick, you control the car with your keyboard, where pressing different keys can make it move forward, backward, or turn.\n",
    "\n",
    "However, manual control is not the main focus of this project. As you gain experience in sending commands and receiving data from the car, you will be able to write a program that automates KITT's movements, eliminating the need for manual control.\n",
    "\n",
    "For this remote control system to function, KITT needs to be wirelessly connected to your computer. This wireless connection allows you to send commands to KITT, such as controlling its direction or speed. Additionally, KITT can send information back to your computer, such as sensor data or battery level, which is a key difference from conventional RC cars. So this setup is a **two-way** communication link.\n",
    "\n",
    "As the first part, you will learn how to set up this wireless connection and start controlling KITT using basic commands. This will build a foundation for more advanced tasks, such as programming you PC and connect it with KITT to navigate it autonomously."
   ]
  },
  {
   "cell_type": "markdown",
   "metadata": {},
   "source": [
    "### KITT Basics\n",
    "\n",
    "KITT is built on a modified toy car model, the Traxxas E-MAXX (see picture below). In addition to its original components, KITT is equipped with two ultrasonic sensors, an LCD display, and the necessary electronics to transmit data via a Bluetooth connection. The LCD on the car provides real-time information, such as the readings from the distance measurement sensors and the battery voltage level.\n",
    "\n",
    "**Note:** There is a data sheet as well which gives an overview of the various components, such as the motor controller, LCD status indicator, ultrasonic sensors, and, most importantly, the communication module.\n",
    "\n",
    "**Note:** As a heads-up for the future, when you start gathering data from KITT via the wireless link, you might notice that it doesn't always match what’s shown on the car's LCD. The data received directly from the car is more accurate, as among other reasons the LCD might update at a slower rate. Therefore, while the LCD can serve as an initial indicator of any issues, it's best to rely on the direct data from the car for precise information.\n",
    "\n",
    "![Traxass E-MAXX along with it's dimensions](traxxas_e-maxx.png)\n",
    "\n",
    "*Traxass E-MAXX along with it's dimensions*\n",
    "\n",
    "#### Hardware\n",
    "\n",
    "KITT is equipped with a custom-made circuit board that brings together various components needed for its operation. At the heart of this board is a microcontroller, which acts as the main control unit.\n",
    "\n",
    "This board also includes everything necessary for wireless communication, like the Bluetooth module, as well as connectors for other parts of the car. Additionally, there's an amplifier on the board that's used for sending out audio signals that help with localization.\n",
    "\n",
    "The circuit board is powered by rechargeable batteries. These batteries supply the necessary voltage through a component that adjusts the voltage to the required levels.\n",
    "\n",
    "Here are the key components included on the board:\n",
    "\n",
    "- **Microcontroller:** NXP LPC4357 chip with an ARM CORTEX-M4/M0 core\n",
    "- **Bluetooth module**\n",
    "- **Amplifier for the audio beacon**\n",
    "- **Buck converter** for voltage regulation\n",
    "- **Voltage regulator:** LM1117-3.3 for generating 3.3V DC\n",
    "\n",
    "\n",
    "![Schematic of communication with KITT and PC.](communication_overview.png)\n",
    "\n",
    "*Schematic of communication with KITT and PC.*\n",
    "\n",
    "\n",
    "As KITT has a bluethoth module for communication you can use your computer's internal Bluetooth connector to connect to KITT.\n",
    "\n",
    "The Bluetooth communication with KITT consists of the following elements:\n",
    "\n",
    "-  On car: Roving Networks RN-41 I/RM, Onboard Bluetooth module with UART control.\n",
    "-  On PC: LM Technologies LM506, USB Bluetooth V4.0 dongle with Broadcom BCM20702 chipset, or the internal Bluetooth module of your laptop.\n",
    "\n",
    "**Tip:** If you want to use one of the lab computers or have trouble connecting to KITT from your PC (check if all drivers are installed), you can use the USB Bluetooth dongle.\n",
    "\n",
    "KITT has four LED's on the front, see the figure below, their meaning is as follows:\n",
    "\n",
    "![KITT](figurejoin.png)\n",
    "\n",
    "*Kitt control board and front LEDS*\n",
    "\n",
    "- Red (twice): *5V* and *20V* supply voltages are present.\n",
    "- Green (blinking): Bluetooth searches for connection; (steady) Bluetooth connected.\n",
    "- Yellow (blinking): Bluetooth data transfer.\n",
    "\n",
    "The button next to the LEDs is a reset button for the MCU. This reset button allows the user to reset KITT's actions if it freezes or is unresponsive."
   ]
  },
  {
   "cell_type": "markdown",
   "metadata": {
    "id": "29cWp65gIZKw"
   },
   "source": [
    "## Communicating with KITT\n",
    "\n",
    "In this section, we cover the essential concepts required to effectively communicate with the KITT system. In the following section, we will apply these principles in practice, implementing them in the simulator and the car."
   ]
  },
  {
   "cell_type": "markdown",
   "metadata": {},
   "source": [
    "\n",
    "\n",
    "#### pySerial\n",
    "\n",
    "pySerial is a Python module that provides a simple and efficient way to communicate with serial ports. It allows Python programs to access and manipulate the serial ports on a computer, allowing them to communicate with other devices connected to those ports. With pySerial, you can easily send and receive data to/from these devices. pySerial is cross-platform, and works on Windows, macOS, and Linux operating systems.\n",
    "\n",
    "- `Serial(port, baud rate)` - This command initializes a serial connection. The port argument specifies the serial port to use (e.g., \"COM1\" on Windows or \"/dev/rfcomm0\" on Linux),\n",
    "and the baud-rate argument specifies the data rate in bits per second.\n",
    "- `serial.write(data)` - This command sends data over the serial connection. The data argument is a bytes object that contains the data to be sent.\n",
    "- `serial.read(size)` - This command reads a specified number of bytes from the serial connection. It blocks until the specified number of bytes is received.\n",
    "- `serial.read_until(bytes)` - This command reads bytes from the serial connection until the specified byte sequence is found. It blocks until then.\n",
    "- `serial.flush()` - This command is used to flush the input and output buffers of the serial connection.\n",
    "- `serial.close()` - This command is used to close the serial connection.\n",
    "\n",
    "Further more, updated information regarding the module can also be found through this link [pySerial](https://pyserial.readthedocs.io/en/latest/pyserial.html).\n",
    "\n",
    "#### Simulated Serial port\n",
    "\n",
    "The KITT simulator is also controlled by a serial port.\n",
    "This port uses the following functions:\n",
    "\n",
    "- `Serial(port, baud rate)`\n",
    "- `serial.write(data)`\n",
    "\n",
    "These functions work identically to the pySerial functions, except that they communicate with the simulated KITT and not the real KITT."
   ]
  },
  {
   "cell_type": "markdown",
   "metadata": {
    "id": "GH6NHYueIZKy"
   },
   "source": [
    "#### Controlling KITT\n",
    "\n",
    "After connecting to KITT, commands are required to control it: Driving commands, Audio beacon commands, Status command.\n",
    "\n",
    "__Driving Commands:__ First off, for driving there are 2 types of instructions:\n",
    "\n",
    "-  A direction command: `D`.\n",
    "-  A motor speed command: `M`.\n",
    "\n",
    "These are controlled using Pulse width modulation.  Both commands are neutral at a setting of 150. The direction commands range from 200 (hard left) to 100 (hard right), and the motor commands range from 135 (backward) to 165 (forward)."
   ]
  },
  {
   "cell_type": "markdown",
   "metadata": {
    "id": "g-XGcwVYIZKz"
   },
   "source": [
    "**Note:** There is a dead zone for the motor commands, so KITT will likely not start moving forward until the PWM is set to about 153. It is recommended to experiment with these values, they are also battery-dependent. You should test the size of the drive command dead-band, verify that 150 is the middle position for steering (sometimes there is a deviation of ±2), and test the maximum left and right position."
   ]
  },
  {
   "cell_type": "markdown",
   "metadata": {
    "id": "3kA4W74wIZKz"
   },
   "source": [
    "All the commands are sent in binary and end with a new line character.\n",
    "```{code-cell}\n",
    "serial.write(b'code\\n')\n",
    "```\n",
    "\n",
    "To set direction to 130 and motor speed to 160, it can be done as follows,\n",
    "\n",
    "```{code-cell}\n",
    "serial.write(b'D130\\n')\n",
    "serial.write(b'M160\\n')\n",
    "```\n",
    "\n",
    "**Attention:** Once you set the motor speed commands, KITT will continue to act on this until you either\n",
    "transmit a new motor speed command or reset the MCU using the button on KITT, which will set both\n",
    "direction and motor speed commands to the neutral value of 150. Do one of these two options after your\n",
    "tests since KITT will keep driving if you don’t.\n",
    "\n",
    "Let's see this in the simulator."
   ]
  },
  {
   "cell_type": "code",
   "execution_count": 3,
   "metadata": {},
   "outputs": [
    {
     "data": {
      "application/vnd.jupyter.widget-view+json": {
       "model_id": "a34b23db2d4c440ba3f96dafafc21d0f",
       "version_major": 2,
       "version_minor": 0
      },
      "text/plain": [
       "Canvas(height=520, width=520)"
      ]
     },
     "metadata": {},
     "output_type": "display_data"
    },
    {
     "name": "stdout",
     "output_type": "stream",
     "text": [
      "Motors are ON\n",
      "Motors are OFF\n"
     ]
    }
   ],
   "source": [
    "# Open serial port\n",
    "serial = Serial('/dev/ttyUSB0', 115200)\n",
    "\n",
    "# Wait for one second\n",
    "time.sleep(1)\n",
    "\n",
    "# Set speed and direction\n",
    "serial.write(b'M162\\n')\n",
    "serial.write(b'D100\\n')\n",
    "print(\"Motors are ON\")\n",
    "\n",
    "time.sleep(2)\n",
    "\n",
    "# Set speed to zero\n",
    "serial.write(b'M150\\n')\n",
    "print(\"Motors are OFF\")\n",
    "\n",
    "time.sleep(5) # Notice the car keeps moving\n",
    "\n",
    "# Close the connection (important!)\n",
    "serial.close()"
   ]
  },
  {
   "cell_type": "markdown",
   "metadata": {},
   "source": [
    "To test yourself, try to make the car turn left instead of right.\n",
    "\n",
    "Also notice that the car keeps moving after the motors are off. This is because of the car's dynamics, which will be explored in a later module."
   ]
  },
  {
   "cell_type": "markdown",
   "metadata": {
    "id": "QvxRdj1IIZK0"
   },
   "source": [
    "__Audio Beacon__\n",
    "\n",
    "Secondly, Audio beacon commands used are:\n",
    "\n",
    "- `F`: set transmission frequency (Timer 0)\n",
    "- `B`: set bit frequency (Timer 1)\n",
    "- `R`: set repetition count (Timer 3)\n",
    "- `C`: set 32-bit code\n",
    "- `A`: turn beacon on/off\n",
    "\n",
    "![Illustration of the transmitted signal](Beacon.png)\n",
    "*Illustration of the transmitted signal*\n",
    "\n",
    "The repitition count formula is as follows:\n",
    "\n",
    "$$Repitition Count = \\frac{Bit Frequency}{Repitition Frequency}$$\n",
    "\n",
    "For example, if the bit frequency is 5000, the repetition count should be 2500 to sound the beacon twice per second.\n",
    "\n",
    "Later, you will use this beacon to determine where your car is on the field.\n",
    "Remember that all the numbers provided here serve only as an example. It is up to you to determine what carrier frequency, code word, etc., best fits the goal of succeeding at the final challenge.\n",
    "\n",
    "Let's use these in the simulator.\n",
    "Unfortunately, the sound of the car cannot be heard in the simulation.\n",
    "Therefore, nothing happens."
   ]
  },
  {
   "cell_type": "code",
   "execution_count": 4,
   "metadata": {},
   "outputs": [
    {
     "data": {
      "application/vnd.jupyter.widget-view+json": {
       "model_id": "c1a9fa218780494084b8dda7c01953a9",
       "version_major": 2,
       "version_minor": 0
      },
      "text/plain": [
       "Canvas(height=520, width=520)"
      ]
     },
     "metadata": {},
     "output_type": "display_data"
    },
    {
     "name": "stdout",
     "output_type": "stream",
     "text": [
      "Beacon is ON\n",
      "Beacon is OFF\n"
     ]
    }
   ],
   "source": [
    "serial = Serial('/dev/ttyUSB0', 115200)\n",
    "\n",
    "# Carrier frequency set to 10000 Hz for example.\n",
    "carrier_frequency = (10000).to_bytes(2, byteorder='big') # Convert number to bytes\n",
    "serial.write(b'F' + carrier_frequency + b'\\n') # `F` command sets carrier frequency\n",
    "\n",
    "# Bit frequency set to 5000 Hz for example.\n",
    "bit_frequency = (5000).to_bytes(2, byteorder='big')\n",
    "serial.write(b'B' + bit_frequency + b'\\n') # `B` command sets bit frequency\n",
    "\n",
    "# Repitition count has a minimum of 32.\n",
    "repetition_count = (2500).to_bytes(2, byteorder='big')\n",
    "serial.write(b'R' + repetition_count + b'\\n') # `R` command sets repetition count\n",
    "\n",
    "# The 32 bits code pattern is transmitted bit-wise over the beacon. Hence, code must be specified in hexadecimal.\n",
    "# The following code is a sequence of 16 `1` bits followed by 16 `0` bits\n",
    "# You will need to create your own code later\n",
    "code = (0xFFFF0000).to_bytes(4, byteorder='big') # Convert hexadecimal number to bytes\n",
    "serial.write(b'C' + code + b'\\n') # `C` command sets code\n",
    "\n",
    "time.sleep(1)\n",
    "print(\"Beacon is ON\")\n",
    "serial.write(b'A1\\n') # Turn Beacon ON\n",
    "time.sleep(3)\n",
    "print(\"Beacon is OFF\")\n",
    "serial.write(b'A0\\n') # Turn Beacon OFF\n",
    "time.sleep(1)\n",
    "\n",
    "# Close the connection (important!)\n",
    "serial.close()"
   ]
  },
  {
   "cell_type": "markdown",
   "metadata": {},
   "source": [
    "**Caution:** Be aware that the default code word for the beacon is 0x00000000, which means KITT will not start making noise on its own when the beacon is turned on. You should specify a code as described above before you can hear the beacon make noise. Furthermore, an arbitrary carrier frequency, bit frequency and repitition count can be used. (Generally, maximum of 30 kHz)"
   ]
  },
  {
   "cell_type": "markdown",
   "metadata": {
    "id": "6rFpObgKIZK0"
   },
   "source": [
    "__status command__\n",
    "\n",
    "Lastly, the status command which requests for the status and all the data from KITT is `S`.\n",
    "The status string reports the current drive commands, the ultrasonic sensor distance (cm), the battery voltage (mV), the audio beacon status (on/off) and control parameters (code word,carrier-frequency, bit-frequency, repetition count). A sensor distance of 999 means overload (i.e., out of range)."
   ]
  },
  {
   "cell_type": "code",
   "execution_count": 6,
   "metadata": {},
   "outputs": [
    {
     "data": {
      "application/vnd.jupyter.widget-view+json": {
       "model_id": "c343703f2062491a9acf80680ff0ad4c",
       "version_major": 2,
       "version_minor": 0
      },
      "text/plain": [
       "Canvas(height=520, width=520)"
      ]
     },
     "metadata": {},
     "output_type": "display_data"
    },
    {
     "name": "stdout",
     "output_type": "stream",
     "text": [
      "Car status is:\n",
      "\n",
      "**************************\n",
      "* Audio Beacon: off\n",
      "* c: 0xabcdef00\n",
      "* f_c: 5678\n",
      "* f_b: 1234\n",
      "* c_r: 1337\n",
      "**************************\n",
      "* PWM:\n",
      "* Dir. 150\n",
      "* Mot. 150\n",
      "**************************\n",
      "* Sensors:\n",
      "* Dist. L 999 R 999\n",
      "* V_batt 11.5 V\n",
      "**************************\n",
      "\u0004\n"
     ]
    }
   ],
   "source": [
    "serial = Serial('/dev/ttyUSB0', 115200)\n",
    "\n",
    "serial.write(b'S\\n')\n",
    "\n",
    "status = serial.read_until(b'\\x04')\n",
    "\n",
    "print(f\"Car status is:\\n\\n{status}\")\n",
    "\n",
    "# Close the connection (important!)\n",
    "serial.close()"
   ]
  },
  {
   "cell_type": "markdown",
   "metadata": {
    "id": "EI8RNkS6IZK1"
   },
   "source": [
    "## Implementing a basic KITT Control Script\n",
    "\n",
    "Now you can start to write a Python program to control the simulator or the car connected over Bluetooth. This program should allow the car to be controlled using the keyboard w, a, s, and d keys. The e and q should start and stop the audio beacon. Also add a key to stop communication with KITT.\n",
    "\n",
    "We start this program by defining a the class KITT and some essential methods for communication. Classes define the structure and capabilities of objects, allowing you to create multiple instances with the same properties and methods. Next you will complete the *wasd* function. You have to design the wasd function as a continuous loop that reads keyboard events using the keyboard library which you load using import keyboard. You will finally call the function and test your code first on the simulator and next on the real car."
   ]
  },
  {
   "cell_type": "markdown",
   "metadata": {
    "id": "NyJU4PFXIZK1"
   },
   "source": [
    "Here is a short explanation of the code that you will complete in the following code cells. Ensure you understand how the code works before using its various functions.\n",
    "\n",
    "**KITT Class:***\n",
    "- The `__init__` method is the one that runs when you make an instance of the class. It starts the\n",
    "serial communication with the specified port and baud rate.\n",
    "- `send_command` method sends a given command to KITT over the established serial connection.\n",
    "- `set_speed` and `set_angle` methods adjust KITT’s speed and steering angle, respectively.\n",
    "- `stop` method brings KITT to a halt by setting both speed and angle to a neutral state.\n",
    "- `__del__` method ensures the proper closure of the serial communication when the KITT object is\n",
    "deleted. It runs automatically at the end of the script.\n",
    "\n",
    "**wasd Function:**\n",
    "- The wasd function is designed to be a continuous loop that reads keyboard events using\n",
    "    the keyboard library which you loaded using import keyboard.\n",
    "- When a key is pressed (KEY_DOWN), the function interprets the key and adjusts KITT’s speed and steering angle or toggles the beacon accordingly.\n",
    "- The ‘w’ key accelerates KITT forward, ‘s’ stops KITT, ’a’ turns KITT left, and ‘d’ turns KITT right.\n",
    "- The ‘e’ key turns on the beacon, and the ‘q’ key turns off the beacon.\n",
    "- When a key is released (KEY_UP), you could define appropriate actions, e.g. stop KITT or reset the steering angle.\n",
    "\n",
    "**test code**\n",
    "- `if __name__ == \"__main__\"` This is the code that will start executing when you run your script. This contstruct allows you to\n",
    "mport your script as a module into another script without running the test code.\n",
    "\n",
    "- An instance of KITT (an object of the KITT class) is then created, with the port as a parameter.\n",
    "You should change this to your port number.\n",
    "- Next, the wasd function is called and given this instance of KITT. It should detect key-press events\n",
    "and attach these to KITT commands like\n",
    "– kitt.set_speed(170)\n",
    "– kitt.set_angle(150)\n",
    "– kitt.stop\n",
    "\n",
    "**TODO:** modify the __init__ so that when the communication with KITT is started, the beacon\n",
    "is initialized with the correct set of parameters. Use the existing serial port and send_command.\n",
    "\n",
    "**TODO:** add two methods start_beacon and stop_beacon that turn the beacon on or off. Note\n",
    "that you should have set the beacon parameters during the __init__, so there is no need to resend\n",
    "them every time you turn the beacon on."
   ]
  },
  {
   "cell_type": "code",
   "execution_count": 7,
   "metadata": {
    "id": "Y0Syd2gFIZK3"
   },
   "outputs": [],
   "source": [
    "class KITT:\n",
    "    def __init__(self, port, baudrate=115200):\n",
    "        self.serial = Serial(port, baudrate, rtscts=True)\n",
    "\n",
    "    def send_command(self, command):\n",
    "        self.serial.write(command.encode())\n",
    "\n",
    "    def set_speed(self, speed):\n",
    "        self.send_command(f'M{speed}\\n')\n",
    "\n",
    "    def set_angle(self, angle):\n",
    "        self.send_command(f'D{angle}\\n')\n",
    "\n",
    "    def stop(self):\n",
    "        self.set_speed(150)\n",
    "        self.set_angle(150)\n",
    "\n",
    "    def __del__(self):\n",
    "        self.serial.close()\n"
   ]
  },
  {
   "cell_type": "code",
   "execution_count": 8,
   "metadata": {
    "id": "sj_lQ85VIZK3"
   },
   "outputs": [],
   "source": [
    "def wasd_control(kitt):\n",
    "    print(\"Control the car with E (up), D (down), S (left), F (right), and Q to quit.\")\n",
    "    car_speed = 150\n",
    "    car_steering = 150\n",
    "\n",
    "    def on_press(key):\n",
    "        nonlocal car_speed, car_steering\n",
    "\n",
    "        try:\n",
    "            if key.char == 'e':\n",
    "                car_speed += 5\n",
    "            elif key.char == 'd':\n",
    "                car_speed -= 5\n",
    "            elif key.char == 's':\n",
    "                car_steering += 15\n",
    "            elif key.char == 'f':\n",
    "                car_steering -= 15\n",
    "            elif key.char == 'q':\n",
    "                kitt.__del__()\n",
    "                return False\n",
    "        except AttributeError:\n",
    "            pass\n",
    "        \n",
    "        if car_speed > 165:\n",
    "            car_speed = 165\n",
    "        if car_speed < 135:\n",
    "            car_speed = 135\n",
    "        if car_steering > 200:\n",
    "            car_steering = 200\n",
    "        if car_steering < 100:\n",
    "            car_steering = 100\n",
    "        \n",
    "        kitt.set_speed(car_speed)\n",
    "        kitt.set_angle(car_steering)\n",
    "        # print(f\"Speed: {car_speed}, Steering: {car_steering}\")\n",
    "\n",
    "    # Collect events until released\n",
    "    with keyboard.Listener(on_press=on_press) as listener:\n",
    "        listener.join()\n",
    "\n"
   ]
  },
  {
   "cell_type": "code",
   "execution_count": 9,
   "metadata": {
    "colab": {
     "referenced_widgets": [
      "f1f27d97cf304b8b9297710e55f2b27b"
     ]
    },
    "id": "IPRBOZLWIZK4",
    "outputId": "49a62603-408d-47ab-f65d-2e71e8c06f9b"
   },
   "outputs": [
    {
     "data": {
      "application/vnd.jupyter.widget-view+json": {
       "model_id": "ad9aae2a25b145db9b0c6e2942a53d44",
       "version_major": 2,
       "version_minor": 0
      },
      "text/plain": [
       "Canvas(height=520, width=520)"
      ]
     },
     "metadata": {},
     "output_type": "display_data"
    },
    {
     "name": "stdout",
     "output_type": "stream",
     "text": [
      "Control the car with E (up), D (down), S (left), F (right), and Q to quit.\n"
     ]
    }
   ],
   "source": [
    "# Example usage\n",
    "if __name__ == \"__main__\":\n",
    "    kitt = KITT('/dev/ttyUSB0')  # Replace with the actual port\n",
    "    wasd_control(kitt)"
   ]
  },
  {
   "cell_type": "markdown",
   "metadata": {
    "id": "1fYUcmcJIZK6"
   },
   "source": [
    "#### To test the code with the real car\n",
    "\n",
    "Now you can check and see if you can also control the real car with the code you wrote. For that you need to restart the kernel and uncomment the serial at the top of the notebook. No code changes required."
   ]
  },
  {
   "cell_type": "markdown",
   "metadata": {
    "id": "YcXVOPIrIZKx"
   },
   "source": [
    "#### Connecting to the real KITT\n",
    "\n",
    "Although the code does not need to be changed to work on the real car, theory and practice may differ.\n",
    "If you encounter any difficulties with connecting to KITT, read on.\n",
    "\n",
    "To start with, connect the car to your computer over Bluetooth. Make sure you know the name of the Bluetooth port that the car is connected to. To access the link in Python use,\n",
    "```{code-cell}\n",
    "serial_port = Serial(comport, 115200, rtscts=True)\n",
    "```\n",
    "serial_port is an instance of pySerial and this object can be used to manipulate KITT. The variable comport is the path to the comport assigned to the Bluetooth connection with KITT. Which\n",
    "comport specifically KITT is connected to can be found in your communication settings in Windows etc. .\n",
    "\n",
    "E.g., if your transmission connection to KITT takes place over port 10, then you should use:\n",
    "`comport = 'COM10'`\n",
    "\n",
    "Connecting to a serial port over Bluetooth can be pretty tricky. Windows users, refer to Appendix B. Linux users can use `# rfcomm bind rfcomm0 MAC_ADDRESS`; there is also a section about it on the [Arch Linux wiki](  https://wiki.archlinux.org/title/Bluetooth#Bluetooth_serial). The MAC address of KITT always ends with the code printed on its label. For example, if the label reads DA:84, the MAC will end with `xx:xx:xx:xx:DA:84`.\n",
    "\n",
    "To find out which serial ports are available, you can use the list_ports tool of pySerial. Run the following in a shell:\n",
    "\n",
    "```{code-cell}\n",
    "python -m serial.tools.list_ports\n",
    "```\n",
    "\n",
    "Further information regarding the issues with connecting to the port via Bluetooth can be solved by referring to the Appendices."
   ]
  },
  {
   "cell_type": "markdown",
   "metadata": {
    "id": "Icn3GOp4IZKy",
    "jp-MarkdownHeadingCollapsed": true
   },
   "source": [
    "**Note:** Also keep in mind, The Bluetooth connection is disturbed by leaving comports open, quitting your work without closing the communication link, removing the Bluetooth dongle, or turning off the Bluetooth connection. Avoid disturbing the Bluetooth connection by ending the connection properly before doing any of the aforementioned things. If you disturb the Bluetooth link, you may need to reboot your computer to reset the operating system, which costs you valuable lab time.\n",
    "\n",
    "The connection must also be closed once you are done using the port\n",
    "`serial_port.close()`"
   ]
  },
  {
   "cell_type": "markdown",
   "metadata": {
    "id": "ar0OwrTSIZK6"
   },
   "source": [
    "#### Optional Extensions\n",
    "\n",
    "If you would like to go above and beyond with the task then below listed are a few tips which can help with extending the functionality of the program,\n",
    "\n",
    "- Add error handling: Currently, if there is an error with the Bluetooth connection or the serial communication, the program will simply crash. You could add some error handling to handle\n",
    "these cases more gracefully, such as printing an error message and exiting the program.\n",
    "- Add speed control: Currently, the program only supports moving the car forward or backward and turning left or right. You could add support for controlling the speed of the car, such as by\n",
    "sending different commands to the car depending on how long the user holds down the forward or backward keys.\n",
    "- Add an emergency stop: KITT doesn’t have a brake; the 150 speed setting lets KITT roll out to standstill, which might take a long distance. Add an emergency brake by letting KITT drive\n",
    "backwards for a short period of time. (You should first detect if the previous speed setting caused KITT to move forward. You need to define a state variable to memorize the speed setting.)\n",
    "\n"
   ]
  },
  {
   "cell_type": "markdown",
   "metadata": {
    "id": "eCR38Y41IZK6"
   },
   "source": [
    "#### Mid-term assessment and report\n",
    "After you finish this assignment, and ultimo in week 4, showcase the functionality of your script to your\n",
    "assigned TA. After you pass this assessment, you are ready to document your results in your midterm\n",
    "report.\n",
    "For this Module, you would include a chapter that covers the approach, implementation, testing and\n",
    "results of the basic controller.\n",
    "Remember to document your code, using comments to define input/output variables of functions and to\n",
    "explain the logic and any modifications made. Your completed script will be crucial for the upcoming\n",
    "challenges, contributing to the overall autonomous driving system.\n",
    "After you have completed this module and have tested all the components thoroughly, start on the second\n",
    "part of the communication script outlined in Module 2."
   ]
  },
  {
   "cell_type": "markdown",
   "metadata": {
    "id": "Aeu7KHKYeh_l",
    "jp-MarkdownHeadingCollapsed": true
   },
   "source": [
    "# **FAQ**"
   ]
  },
  {
   "cell_type": "markdown",
   "metadata": {},
   "source": [
    "\n",
    "\n",
    "**What is a serial communication and why is it used?**\n",
    "\n",
    "Serial communication is a way of transmitting data one bit at a time over a single communication line. It's commonly used to connect devices like computers and microcontrollers because it simplifies wiring and is efficient for long-distance communication. In this method, data is sent in a sequence, or \"serially,\" from the sender to the receiver, typically using standards like USB, RS-232, or UART."
   ]
  },
  {
   "cell_type": "markdown",
   "metadata": {},
   "source": [
    "\n",
    "\n",
    "\n",
    "**What is the COM port?**\n",
    "\n",
    "In a Bluetooth connection, a COM port (short for \"communication port\") is a virtual port that allows your computer to communicate with Bluetooth devices as if they were connected via a traditional serial port (like those used for older wired connections). When you pair a Bluetooth device with your computer, the operating system assigns it a virtual COM port, which acts as an interface for data exchange between your computer and the Bluetooth device. This makes it easier to send and receive data over Bluetooth using standard serial communication methods.\n"
   ]
  },
  {
   "cell_type": "markdown",
   "metadata": {},
   "source": [
    "**What is a buck converter and why is it used?**\n",
    "\n",
    "A buck converter is a type of DC-DC converter that steps down voltage from a higher level to a lower level while maintaining efficient power transfer. It works by rapidly switching a transistor on and off to control the energy transferred to an output capacitor, which smooths out the voltage to a lower, steady level.\n",
    "\n",
    "Buck converters are used because they are highly efficient, meaning they waste very little power as heat. This efficiency is particularly important in battery-powered devices, like KITT, where it's crucial to conserve energy and maintain a stable voltage for sensitive electronics. For instance, if the battery supplies 12V but the circuit requires 5V, a buck converter efficiently reduces the voltage to the needed level without generating much heat or wasting energy.\n",
    "\n"
   ]
  },
  {
   "cell_type": "markdown",
   "metadata": {},
   "source": [
    "\n",
    "**I have paired the car with my PC however the LED is still bliking is the car connected ?**\n",
    "\n",
    "Pairing your Bluetooth module and assigning a COM port is different from running the Python script. If you only pair the device, you'll notice that the LED continues to blink after some time. However, when you run the Python script and the virtual COM port is properly allocated, the LED will stop blinking. Simply pairing the device isn't enough to stop the LED from blinking—you need to run the Python script as instructed to see the LED would be stable which means there is an actualy connection."
   ]
  },
  {
   "cell_type": "markdown",
   "metadata": {
    "id": "SMvdbS610IJG"
   },
   "source": [
    "**What is pulse width modulation?**\n",
    "\n",
    "Pulse Width Modulation (PWM) is a technique used to control the amount of power delivered to an electronic device by varying the width of the pulses in a signal. It works by switching a signal on and off rapidly at a constant frequency, and by adjusting the ratio of the \"on\" time to the \"off\" time, you can control the average voltage and power delivered to a load.\n",
    "\n",
    "For example, if a signal is \"on\" for 50% of the time and \"off\" for the other 50%, the output will deliver 50% of the maximum power. This method is commonly used in applications like controlling the speed of motors, dimming LED lights, and generating analog signals from digital sources because it is efficient and provides precise control over power.\n"
   ]
  },
  {
   "cell_type": "markdown",
   "metadata": {
    "id": "JERUY0Yu0zil"
   },
   "source": [
    "**I've implemented the code, and everything functions correctly in the GUI and runs without errors, but the car isn't moving. What should I do?**\n",
    "\n",
    "Keep in mind that there's an additional switch that controls the power to the motors. If this switch is turned off, the motors won't receive any power from the battery, even if everything else is set up correctly, and the car won't move. Make sure this switch is turned on."
   ]
  }
 ],
 "metadata": {
  "colab": {
   "provenance": []
  },
  "kernelspec": {
   "display_name": "Python 3 (ipykernel)",
   "language": "python",
   "name": "python3"
  },
  "language_info": {
   "codemirror_mode": {
    "name": "ipython",
    "version": 3
   },
   "file_extension": ".py",
   "mimetype": "text/x-python",
   "name": "python",
   "nbconvert_exporter": "python",
   "pygments_lexer": "ipython3",
   "version": "3.12.6"
  },
  "widgets": {
   "application/vnd.jupyter.widget-state+json": {}
  }
 },
 "nbformat": 4,
 "nbformat_minor": 4
}
