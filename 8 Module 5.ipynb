{
 "cells": [
  {
   "cell_type": "markdown",
   "metadata": {},
   "source": [
    "![book header](pictures/header.png)"
   ]
  },
  {
   "cell_type": "markdown",
   "metadata": {},
   "source": [
    "# Module 5: Navigating the KIIT and Final Challanges \n",
    "\n",
    "This chapter contains information that you will need when preparing for the second part: the final challenge. The ultimate goal is to let KITT drive from an initial (known) location A to a given target location B. In this final challenge you are on your own and no explicit steps are provided to help you through the process. Nevertheless, a few hints are given in this chapter on how you could attack the problem (but many alternative solution approaches exist).\n",
    "\n",
    "**Learning objectives:** Basics of system engineering. Extension of control theory knowledge. \n",
    "\n",
    "**Deliverables:** \n",
    "- Sections of your final report regarding the problem analysis and overall design, and the\n",
    "more detailed design of the control system.\n",
    "- Python code for control that was tested on your virtual car model.\n",
    "\n",
    "**Preparation:** Read the chapter. This module provides ideas you may use.\n",
    "\n",
    "**What is needed:** Python code that implements your virtual car model. \n",
    "\n",
    "**Time duration:** One session for brainstorming (high-level system design). Two sessions for developing\n",
    "the control system in Python and debugging it. Two or more sessions (evolving into system integration) for trajectory control analysis, development, and verification. Three homework sessions for study and report writing."
   ]
  },
  {
   "cell_type": "markdown",
   "metadata": {},
   "source": [
    "## Define the problem \n",
    "\n",
    "The problem can be described as: Write a Python program for KIIT that enables autonomous driving from a given starting point A to a designated target point B.\n",
    "\n",
    "What does it mean to reach a location? Essentially, arriving at the location means that the distance between the car's current position and the target point falls within a specified range. In simple terms, if you start 3 meters away from the target (measured from the center of the car), the KIIT should be able to reduce that distance to 30 cm."
   ]
  },
  {
   "cell_type": "markdown",
   "metadata": {},
   "source": [
    "## What information is important for driving the car from a known position A with a given orientation to within 30 cm of point B, assuming there are no obstacles on the field?\n",
    "\n",
    "1. At the starting point, you know both the car's orientation and its location. This essentially serves as your initial condition. The car is positioned in a specific direction, and you also have its position on the field (in two dimensions, this would be a particular x and y coordinate) along with its orientation.\n",
    "2. The target location is known, as it is provided. However, the car's orientation upon reaching the target is not important, as long as the distance between the car and the target falls within the specified range.\n",
    "3. You have created an algorithm to estimate the car's location, providing an estimate based on the moment the recording was made. However, keep in mind that the car may have moved while the recordings are being processed, and the faster the car moves, the greater the error, as the distance traveled increases with speed.\n",
    "4. You have developed a car model that can be used to control the car. So, if you know the direction you need to go, a well-designed model allows you to determine which commands should be given to the car in order to reach the destination. So the model helps you to predict how and what command should be given to the car to move towards a goal. "
   ]
  },
  {
   "cell_type": "markdown",
   "metadata": {},
   "source": [
    "## What do you need to make ? \n",
    "\n",
    "1. **Path planning:** You need to determine a path from point A to point B, which would ideally be a straight line. However, keep in mind that KIIT has a specific orientation, and you can’t move or turn it exactly as you wish. This means that a straight line is not always a feasible path for KIIT to follow. Similar to parking a car, it would be ideal to move in any direction, but due to the car's limited turning angle and movement constraints, it's not always possible. For example, you might need to make several turns before aligning correctly to park. The same applies to KIIT — the path you choose must account for its movement limitations.\n",
    "\n",
    "2. **Path Following:** You need to give accurate commands for the car to stay on the path. The way you do this will vary based on your strategy, but the system must stay stable and track the path closely enough to reach the destination.\n",
    "\n",
    "3. **Location estimation** As you may have already noticed, having a path and a controller alone can make it seem like the TDOA is unnecessary. However, relying solely on a path and a path-following mechanism is essentially like driving blind, knowing only the start and end points (an open-loop controller). This approach is nearly impossible unless you have a highly accurate model, which is not the goal here. Therefore, it's essential to use location estimation with TDOA, updating the location multiple times while controlling the car. This feedback will help the controller determine whether it is staying sufficiently on track. This means you need to develop a method to autonomously estimate the location throughout the challenge. The script should be designed to handle tasks such as sending the beacon, recording data, estimating the location, and providing feedback to the control system. You can implement various strategies, including moving step by step. For example, the vehicle could drive for 2 seconds, stop, send the beacon, estimate the location, and then continue moving.\n",
    "\n",
    "\n"
   ]
  },
  {
   "cell_type": "markdown",
   "metadata": {},
   "source": [
    "## Defining your approach\n",
    "\n",
    "At this time it merits to brainstorm with your entire group on the approach\n",
    "that you will take. For some guidance on how to plan your path or control the car, please refer to the notebooks on path planning and control. For your selected approach, determine whether it will do the job (and under what assumptions/conditions). You can opt for a simple and robust “combinatorial” approach (i.e., based on\n",
    "many if-then-else statements), that will be able to handle the expected situations but not more than that,\n",
    "or a more thoughtful approach based on control theory, that is much more robust but also more risky to\n",
    "implement. \n",
    "\n",
    "This high-level system design is part of system engineering, i.e., with the entire system in mind, define\n",
    "an approach at a high level that will do the job, and define specifications of each constituting subsystem.\n",
    "These parts can then be designed by specialists that don’t have to know or consider the entire system. If\n",
    "the parts are tested and verified to meet their specifications, then the entire system is supposed to work.\n",
    "(Or so you would think.)\n",
    "\n",
    "**Deliverable**\n",
    "\n",
    "In your final report, document your selected approach, and the alternatives that you considered, plus your\n",
    "motivation for the selection.\n",
    "\n",
    "Document the foreseen consequences of this choice. Draw a block scheme that shows what software\n",
    "blocks should interact, and define the interaction (e.g., variables).\n",
    "\n",
    "Your solution will probably contain a finite state machine and/or a loop. An important consideration is\n",
    "the timing of this loop. Document your analysis of this in sufficient detail. How often do you intend to\n",
    "measure your location, keeping in mind the constraints and trade-offs here. Consider also the various\n",
    "delays in the system. If you obtain a location fix, how old is that information? If you estimate velocity\n",
    "from two locations, then to what time point does that velocity refer? How fast should one iteration of the\n",
    "loop be? (If it is too fast, then you won’t have new location information, but if it is too slow, then you\n",
    "might miss your target.) Can you merge location fixes from the audio beacon with predictions of your\n",
    "position using your car model?\n",
    "\n",
    "The text on this in your final report can be placed into an initial section “Problem definition and analysis”, or “Problem analysis and high-level design”, depending on how you want to organize your report. Alternatively, it can be placed after the localization and car modeling sections, if you need to use information from those sections.\n"
   ]
  },
  {
   "cell_type": "markdown",
   "metadata": {},
   "source": [
    "\n",
    "\n",
    "**Deliverable** \n",
    "\n",
    "In the final report, document your path planning solution. Illustrate this with examples of generated routes under varying conditions. "
   ]
  },
  {
   "cell_type": "markdown",
   "metadata": {},
   "source": [
    "## Obstacle avoidance\n",
    "\n",
    "Obstacle avoidance is an advanced topic and you will only get to this if you got trajectory tracking completely solved and working.\n",
    "\n",
    "You have the parking sensors to help you detect obstacles, and also the perimeter of the field can be considered an (invisible) obstacle. Once you detect an obstacle, you need to steer around it. You can have the following options:\n",
    "\n",
    "- The most structured approach is to create a map of the environment. For example, you can store a 2D grid as an array, which serves as your map or occupancy map. In this grid, any locations where obstacles are detected are marked with a value of 1, indicating that no path can be planned through those areas. When an obstacle is encountered, you halt and generate a new path from your current position to the target, factoring in the updated map.\n",
    "\n",
    "- You can also without making a map define a new planned trajectory around the obstacle (possibly requiring driving backwards). Typically, students follow a *combinatorial approach*: lots of if-then-else statements. This works in simple cases. The disadvantage is that it is hard to debug, and the solutions are often not general.\n",
    "\n",
    "- Study control literature on obstacle avoidance that use *artificial potential fields*. This is a general approach that essentially defines a penalty function around obstacles and then finds optimal trajectories that minimize the \"cost\".\n",
    "\n",
    "\n",
    "For tips regaridng this refer to the chapter Obtacle avoidance. \n",
    "\n",
    "\n"
   ]
  },
  {
   "cell_type": "markdown",
   "metadata": {},
   "source": [
    "## How to improve it even more ? \n",
    "\n",
    "If you already have a functioning system that can follow a path from point A to point B while avoiding obstacles, you might want to focus on improving accuracy. You may have noticed that not all recorded data leads to precise location estimations, and depending on your strategy, there could be delays in determining the position. However, there is another valuable source of information that can enhance these estimations: the car model. Let’s walk through an example to demonstrate how you can estimate the car's location using the car model, starting from the initial position and orientation.\n",
    "\n",
    "\n",
    "Imagine you have a simple car model that predicts how the car moves based on steering angle and speed. Let's say the car starts at position (0, 0) facing east (0°), and you give it a command to drive forward at 2 meters per second for 5 seconds, then turn right by 90° and continue for another 3 seconds.\n",
    "\n",
    "Initial position: (0, 0) with a heading of 0° (east).\n",
    "After 5 seconds: The car moves 2 m/s × 5 seconds = 10 meters forward. Now, the car is at position (10, 0), still facing east.\n",
    "Turn command: The car turns 90° right and now faces south (heading 270°).\n",
    "After 3 more seconds: The car moves another 2 m/s × 3 seconds = 6 meters south. The new position is (10, -6).\n",
    "So, using the car model (which predicts how the car reacts to speed and turning commands) and the control commands (forward, turn, etc.), you can estimate the car's new position at each step of the movement. However, the car model you have developed is more complex, which means that estimating the car's location likely requires solving a set of differential equations at each iteration. \n",
    "\n",
    "Now that you have an additional source of location data, you need to find an intelligent method to determine when and which information to use for your location estimation. This involves combining TDOA data with the car model, which may provide different results. You can develop your own approach, but for guidance and suggestions, refer to the chapter on state tracking.\n",
    "\n",
    "\n",
    "\n"
   ]
  },
  {
   "cell_type": "markdown",
   "metadata": {},
   "source": [
    "## Putting it all together \n",
    "\n",
    "Before you can start with the integration part, it is necessary to\n",
    "have completed all the previous subsystems. \n",
    "To link these parts together, you must communicate with the complete group about the responsibilities. The assignment during system integration is to complete the big final design such that you can complete the challenges. Read this chapter completely to know what they are.\n",
    "\n",
    "Focus on the basic challenges first. Once these have been implemented, you can work on the obstacle avoidance and anti-collision system. \n",
    "\n",
    "Take it step-by-step, and keep it simple and structured. You'll quickly reach a level where the car shows unexpected behavior and nobody understands why.\n",
    "\n",
    "For the control system, you can choose to plan a route but you are not required to do so. Important to note is that the location estimates from the locating algorithm must be taken into account during the challenge as the integration of these two is the central focus of the system.  \n",
    "\n",
    "When integrating the control system with the locating algorithm, it is important keep in mind the time it takes to run your control loop after each locating attempt and consider how you can ensure that you always record a full beacon waveform. Ideally, you drive your car while estimating locations. If necessary, it is permitted to stop the car while measuring. This is much easier to program, but you certainly won't be competing for speed that way.\n",
    "\n",
    "After you have completed the integration of the control and locating algorithm, you can attempt an implementation of the obstacle detection and avoidance system for challenges C and D. \n",
    "\n",
    "If you have time, we recommend to design a GUI; see the figure below for an example. This will facilitate to enter parameters for each challenge, and help you to keep an overview on what's going on. But if you have a tight control loop, you'll have to watch out that updating the graphics is not taking too much time.\n",
    "\n",
    "Since you have a virtual car model, you could also use a switch and have the virtual car drive the track, so that you can test the control and obstacle detection performance on those moments that the real field is not available.\n",
    "\n",
    "Do not postpone to document your work. The final report is needed very shortly after the demonstrations.\n"
   ]
  },
  {
   "cell_type": "markdown",
   "metadata": {},
   "source": [
    "## Final Challenge\n",
    "\n",
    "The final challenge for EPO-4 consists of four challenges and a fifth \"free challenge\". In order to get a passing grade, you have to successfully pass at least the first challenge. With every other challenge you pass you will get a higher grade. You will have maximum two attempts for each challenge. If you fail a challenge, you may not compete in further challenges, except for the \"free challenge\".\n",
    "\n",
    "The car reference position is the beacon location.\n",
    "Before each challenge you are allowed to measure the field and the position of the destination (and waypoints). A challenge starts at a given (known) starting position at the edge of the field. The orientation of KITT is always 90° with respect to the edge of the field. Once the start command has been issued you may not touch KITT nor the PC except for an emergency stop.\n",
    "\n",
    "KITT may stop everywhere and as many times as needed. There is no time limit except for the fact that everything, including preparation and cleaning up, should happen within $30$ minutes.  Needless to say, you must use the audio beacon for locating KITT, and the ultrasonic sensors for obstacle detection (no \"open loop\" solutions allowed).\n",
    "\n",
    "**Challenge A** (60 points)\n",
    "- KITT drives from the starting position to a specific point A in the field.\n",
    "        \n",
    "- Once KITT reaches the destination it must stop and the PC must give a signal.\n",
    "\n",
    "**Challenge B** (10 points)\n",
    "- KITT drives from the starting position to point A via another point in the field.\n",
    "- When KITT reaches the waypoint (B) the examiner must have the time to measure the distance; you should let the car stop for 10 seconds. \n",
    "- When KITT reaches the destination (A) it must stop and the PC must give a signal.\n",
    "\n",
    "**Challenge C** (10 points)\n",
    "- KITT drives from the starting position to a specific point A in the field.\n",
    "- When KITT reaches the destination (A) it must stop and the PC must give a signal.\n",
    "- There is an obstacle on route (two paper bias on top of each other) that has to be avoided.\n",
    "- When KITT finds the obstacle, its position must be remembered.\n",
    "\n",
    "**Challenge D** (8 points)\n",
    "- KITT drives from the starting position to a specific point A in the field.\n",
    "- When KITT reaches the destination it must stop and the PC must give the signal.\n",
    "- There is another car involved (stationary but with working beacon), this car has to be avoided. \n",
    "- There is an obstacle on route (two paper bins on top of each other) that has to be avoided.\n",
    "\n",
    "**Free Challenge** (7 points)\n",
    "- Invent your own challenge and impress us! For example, drive form A to B to C where after B you will need to drive backwards to make the turn.\n",
    "- Points awarded depending on the difficulty and creativity of the task.\n",
    "\n",
    "**Grading**\n",
    "\n",
    "- If you complete each task perfectly you receive the total amount of points. Penalty points are deducted for missing the target or hitting the obstacle. \n",
    "\n",
    "ℹ️ <font color='orange'>The grading for a task cannot be negative. </font>\n",
    "\n",
    "- The measurements are done with respect to the center of the louspeaker on top of KITT. \n",
    "\n",
    "- In *Challenge A* you may miss the destination by $30$ cm but for every additional $10$ cm you will lose $5$ points. You can't lose more than $15$ points.\n",
    "\n",
    "- In *Challenges B-D* you may miss the targets by $30$ cm and for every additional $10$ cm you will lose $2.5$ points, this holds for both the way point and the destination.\n",
    "\n",
    "- For each time KITT hits an obstacle or another car you will lose $2.5$ points.\n",
    "\n",
    "**Bonus:** The time you take to complete the challenges will be measured. The fastest team will receive 10 bonus points and the second fastest will receive 5 bonus points. \n",
    "\n",
    "ℹ️ <font color='orange'>It is not possible to receive more than 100 points for the whoel competition.</font>\n",
    "\n",
    "The figure below is a example depiction of the Challenges (*On the old television series, KARR is the archenemy of KITT*)\n",
    "\n",
    "![alt text](pictures/FinalChallenge.png)\n",
    "\n",
    "\n"
   ]
  },
  {
   "cell_type": "markdown",
   "metadata": {},
   "source": [
    "## Final report\n",
    "\n",
    " Instructions for the final report are similar to those of the midterm report (see Mid-term report chapter). Aim for a **well-structured**, compact yet complete report of about 30 pages (plus Python code in an appendix). Do not forget to systematically report on testing/verification: how do you test (each subsystem, and the entire system), what are the results from the test, what do you conclude. Include the results of the final challenge in the report as well. Note that the final challenge is not a test, rather it is a demonstration. With extensive testing, these results won't be a surprise to the reader!\n",
    "    \n",
    "The report is judged by committee members that are not indepth familiar with EPO-4, or the manual. Your report has to be sufficiently self-contained.\n",
    "    \n",
    "The submission deadline is listed on Brightspace, typically it is one day after the final challenge.  Submit your report using the corresponding submission folder.\n",
    "\n",
    "## Final presentation and discussion\n",
    "\n",
    " In week 10 (consult Brightspace for the exact date), you present and defend your final report in front of an examination committee. The examinators will ask questions about your design choices and aspects of teamwork.  This will be part of your grade.\n",
    "\n",
    "The presentation lasts at most 5 min. This is too short to have all team members presenting.  Focus on the highlights and special features of the design, and mention the work breakdown and distribution of tasks to team members.\n",
    "\n",
    "The examination will last about 30 min.  After the examination you will be asked to fill in a peer review form.  Individual grades are differentiated depending on staff observations and the outcome of the peer review.\n"
   ]
  }
 ],
 "metadata": {
  "kernelspec": {
   "display_name": "Python 3",
   "language": "python",
   "name": "python3"
  },
  "language_info": {
   "codemirror_mode": {
    "name": "ipython",
    "version": 3
   },
   "file_extension": ".py",
   "mimetype": "text/x-python",
   "name": "python",
   "nbconvert_exporter": "python",
   "pygments_lexer": "ipython3",
   "version": "3.12.6"
  }
 },
 "nbformat": 4,
 "nbformat_minor": 2
}
