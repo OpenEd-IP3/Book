{
 "cells": [
  {
   "cell_type": "markdown",
   "metadata": {},
   "source": [
    "![book header](pictures/header.png)"
   ]
  },
  {
   "cell_type": "markdown",
   "metadata": {},
   "source": [
    "1. Open a terminal.\n",
    "    \n",
    "2. Update your package manager's repository information:\n",
    "    \n",
    "```{code-cell}\n",
    "    sudo apt update  # For Debian/Ubuntu\n",
    "```    \n",
    "3. Install Python:\n",
    "    \n",
    "```{code-cell}\n",
    "    sudo apt install python3  # For Debian/Ubuntu\n",
    "```\n",
    "    \n",
    "4. To verify the installation, type:\n",
    "    \n",
    "```{code-cell}\n",
    "    python3 --version\n",
    "```\n",
    "    \n",
    "This should display the installed Python version."
   ]
  },
  {
   "cell_type": "markdown",
   "metadata": {},
   "source": [
    "Open a terminal in your IP3 directory and run the following command:\n",
    "```{code-cell}\n",
    "pip3 install -r requirements.txt\n",
    "```"
   ]
  },
  {
   "cell_type": "markdown",
   "metadata": {},
   "source": [
    "#### 1. **Linux and macOS (Intel-based)**:\n",
    "On Linux and macOS (except for ARM versions like Apple Silicon), PyAudio works out of the box. Follow these steps to ensure it’s correctly installed:\n",
    "\n",
    "- First, install PyAudio using `pip`:\n",
    "\n",
    "```bash\n",
    "pip3 install pyaudio\n",
    "```\n",
    "\n",
    "#### 2. **macOS (Apple Silicon - ARM)**:\n",
    "For users on Apple Silicon (M1, M2), the ARM version of macOS, PyAudio needs to be installed via **Homebrew**. Follow these steps:\n",
    "\n",
    "- First, install the PortAudio library (which PyAudio depends on) using Homebrew:\n",
    "\n",
    "```bash\n",
    "brew install portaudio\n",
    "```\n",
    "\n",
    "- Then, install PyAudio using `pip`:\n",
    "\n",
    "```bash\n",
    "pip3 install pyaudio\n",
    "```"
   ]
  }
 ],
 "metadata": {
  "kernelspec": {
   "display_name": "OpenEdVenv",
   "language": "python",
   "name": "python3"
  },
  "language_info": {
   "codemirror_mode": {
    "name": "ipython",
    "version": 3
   },
   "file_extension": ".py",
   "mimetype": "text/x-python",
   "name": "python",
   "nbconvert_exporter": "python",
   "pygments_lexer": "ipython3",
   "version": "3.12.6"
  }
 },
 "nbformat": 4,
 "nbformat_minor": 2
}
