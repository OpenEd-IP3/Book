{
 "cells": [
  {
   "cell_type": "markdown",
   "metadata": {},
   "source": [
    "![book header](pictures/header.png)"
   ]
  },
  {
   "cell_type": "markdown",
   "metadata": {},
   "source": [
    "1. Open your web browser and navigate to the official Python website at [Pythonwebsite](https://www.python.org/downloads/).\n",
    "\n",
    "2. Click on the ''Downloads'' tab, and you will see a button for the latest version of Python. Click on it to initiate the download.\n",
    "\n",
    "3. Once the installer is downloaded, run the executable file. The installer will walk you through a wizard to complete the installation, and in most cases, the default settings work well, so install it like the other applications on macOS. You may also have to enter your Mac password to let it know that you agree with installing Python. \n",
    "\n",
    "4. To verify the installation, open a command prompt and type:\n",
    "\n",
    "```{code-cell}\n",
    "python3 --version\n",
    "```"
   ]
  }
 ],
 "metadata": {
  "kernelspec": {
   "display_name": "OpenEdVenv",
   "language": "python",
   "name": "python3"
  },
  "language_info": {
   "codemirror_mode": {
    "name": "ipython",
    "version": 3
   },
   "file_extension": ".py",
   "mimetype": "text/x-python",
   "name": "python",
   "nbconvert_exporter": "python",
   "pygments_lexer": "ipython3",
   "version": "3.12.6"
  }
 },
 "nbformat": 4,
 "nbformat_minor": 2
}
