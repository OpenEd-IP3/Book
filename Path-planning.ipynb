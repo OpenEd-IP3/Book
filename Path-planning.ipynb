{
 "cells": [
  {
   "cell_type": "markdown",
   "metadata": {},
   "source": [
    "## Defining a target path to the goal\n",
    "\n",
    "Although not necessary, it is helpful to create a target trajectory from A to B. Assume that you know your\n",
    "starting position and orientation (i.e., the initial state). From here, you can draw a feasible trajectory to the target *B* in many ways.\n",
    "\n",
    "- You have some freedom in your orientation when you arrive at B.\n",
    "- Since steering amounts to driving on circles, you can define a circle with the smallest possible\n",
    "radius and then drive straight, or define a circle with a larger radius that goes through both given\n",
    "points and is tangential to the given orientation, or anything in between.\n",
    "- In some cases you may need to drive backwards to be able to reach the goal. E.g., what happens\n",
    "if the target is within the smallest turning circle? [Note: This scenario is not part of the basic\n",
    "challenges, but you could use it for the Free Challenge. See Chapter 9.(@B update)]\n",
    "- Depending on your control strategy, you may need to recreate the target trajectory each time new\n",
    "location information is measured.\n",
    "\n",
    "**Deliverable** \n",
    "\n",
    "In the final report, document your path planning solution. Illustrate this with examples of generated routes under varying conditions. "
   ]
  },
  {
   "cell_type": "markdown",
   "metadata": {},
   "source": [
    "## What are the constrains to moving toward the goal ?\n",
    "\n",
    "First lets consider two secnarios and then apply it to the case of KIIT: \n",
    "\n",
    "Imagine you have a book on a smooth, flat table. You can push this book in any direction you want: forward, backward, left, right, or any diagonal direction. You can also rotate it freely while sliding it. The book can go from its current position to any other position on the table directly, without any constraints on how it can move. This is an example of holonomic system.\n",
    "\n",
    "Now Imagine you're trying to move a car on a flat parking lot. You can steer the car to the left or right, and you can drive forward or backward, but you can't just move the car sideways—like sliding it directly to the left or right without turning it. This limitation is an example of a non-holonomic constraint. \n",
    "\n",
    "\n",
    "Now in case of KITT: You would like to move from point A to point B. You can't just magically place the KITT into B sideways. Instead, you need to carefully maneuver—turn the wheel, move forward, adjust, move backward, and so on.You even have constrains reagarding how much you can steer left and right. And the path you take depends on the current orientation and motion of the car. This makes this a classic non-holonomic problem."
   ]
  },
  {
   "cell_type": "markdown",
   "metadata": {},
   "source": [
    "## More advanced methods for path planning \n",
    "\n",
    "Path planning is essential in robotics and autonomous driving applications. The A* algorithm is a popular pathfinding and graph traversal algorithm that can find the shortest path between two points on a grid. However, standard A* doesn't account for vehicle constraints like turning radius and orientation. To address this, you can use the Hybrid A* algorithm, which considers the vehicle's kinematics, allowing for feasible paths that a real vehicle can follow."
   ]
  },
  {
   "cell_type": "markdown",
   "metadata": {},
   "source": [
    "incase you would like to follow such an approach the folloiwng steps are suggested : \n",
    "\n",
    "1. Create an Occupancy Map: Represent the environment with possible obstacles and borders.\n",
    "\n",
    "2. Impose Nonholonomic Constraints: Introduce vehicle kinematic constraints in your path finding algroithm or throw away the paths that dont fit your requirments. \n",
    "\n",
    "4. plan Path Using Hybrid A*: Find a feasible path that respects the vehicle's movement capabilities."
   ]
  },
  {
   "cell_type": "markdown",
   "metadata": {},
   "source": [
    "So Hybrid A* is the algorithm that extends the A* search by incorporating the vehicle's kinematic model into the path planning process. Instead of simply moving from one grid cell to adjacent cells, Hybrid A* simulates the vehicle's possible movements based on its steering capabilities and motion constraints. This involves generating continuous motion primitives—small, feasible movements like moving forward, turning left, or turning right—which are used to expand the search tree in a way that reflects the vehicle's actual movement abilities. A good begginer freindly guide or an introduction on it can be found on https://medium.com/@junbs95/gentle-introduction-to-hybrid-a-star-9ce93c0d7869 . The algorithm has been widely adopted and implemented in various platforms, including ROS (Robot Operating System), Unity, Python, and MATLAB, and continues to be a foundational method in the field of robotic motion planning so you might also find existing implmentation of it as well."
   ]
  }
 ],
 "metadata": {
  "kernelspec": {
   "display_name": "Python 3",
   "language": "python",
   "name": "python3"
  },
  "language_info": {
   "name": "python",
   "version": "3.12.6"
  }
 },
 "nbformat": 4,
 "nbformat_minor": 2
}
