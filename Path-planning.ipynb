{
 "cells": [
  {
   "cell_type": "markdown",
   "metadata": {},
   "source": [
    "## Defining a target path to the goal\n",
    "\n",
    "Although not necessary, it is helpful to create a target trajectory from A to B. Assume that you know your\n",
    "starting position and orientation (i.e., the initial state). From here, you can draw a feasible trajectory to the target *B* in many ways.\n",
    "\n",
    "- You have some freedom in your orientation when you arrive at B.\n",
    "- Since steering amounts to driving on circles, you can define a circle with the smallest possible\n",
    "radius and then drive straight, or define a circle with a larger radius that goes through both given\n",
    "points and is tangential to the given orientation, or anything in between.\n",
    "- In some cases you may need to drive backwards to be able to reach the goal. E.g., what happens\n",
    "if the target is within the smallest turning circle? [Note: This scenario is not part of the basic\n",
    "challenges, but you could use it for the Free Challenge. See Chapter 9.(@B update)]\n",
    "- Depending on your control strategy, you may need to recreate the target trajectory each time new\n",
    "location information is measured.\n",
    "\n",
    "**Deliverable** \n",
    "\n",
    "In the final report, document your path planning solution. Illustrate this with examples of generated routes under varying conditions. "
   ]
  },
  {
   "cell_type": "markdown",
   "metadata": {},
   "source": [
    "## What are the constrains to moving toward the goal ?\n",
    "\n",
    "First lets consider two secnarios and then apply it to the case of KIIT: \n",
    "\n",
    "Imagine you have a book on a smooth, flat table. You can push this book in any direction you want: forward, backward, left, right, or any diagonal direction. You can also rotate it freely while sliding it. The book can go from its current position to any other position on the table directly, without any constraints on how it can move. This is an example of holonomic system.\n",
    "\n",
    "Now Imagine you're trying to move a car on a flat parking lot. You can steer the car to the left or right, and you can drive forward or backward, but you can't just move the car sideways—like sliding it directly to the left or right without turning it. This limitation is an example of a non-holonomic constraint. \n",
    "\n",
    "\n",
    "Now in case of KIIT: You would like to move from point A to point B. You can't just magically place the KIIT into B sideways. Instead, you need to carefully maneuver—turn the wheel, move forward, adjust, move backward, and so on.You even have constrains reagarding how much you can steer left and right. And the path you take depends on the current orientation and motion of the car. This makes this a classic non-holonomic problem."
   ]
  },
  {
   "cell_type": "markdown",
   "metadata": {},
   "source": [
    "\n",
    "\n",
    "\n",
    "### Partitioning by projection\n",
    "\n",
    "A solution to this problem is given by projection. If you could project our two-dimensional space onto\n",
    "a one-dimensional space S, then you could use KITT’s position in S for one-dimensional control. Figure\n",
    "8.1 (@B opdate) depicts this idea. The line represents the trajectory that you would want to follow.\n",
    "\n",
    "Let KITT's trajectory be given by, \n",
    "\n",
    "$$ \\mathbf{x}(t) = \\left[ x(t), y(t) \\right]^T $$\n",
    "\n",
    "You can define the projection of \\((x, y)\\) onto \\(S\\) by\n",
    "$$\n",
    "z = z(x, y)\n",
    "$$\n",
    "\n",
    "where $z \\in S$. The projected position $z$ can be regarded as the distance you travel on $ S $. KITT's speed should then be continuously controlled so that $z$ approaches the desired distance without overshooting. Thus, using $z$ as a measure for distance allows for one-dimensional control in a plane.\n",
    "\n",
    "This approach requires knowing KITT's trajectory: you need an *estimate* of KITT's future movement. This is given by the planned trajectory. You can now state your wanted projection: The projected position $z$ is given by the arc length of the planned trajectory from KITT's current position to its target position. This allows for velocity control along any trajectory in a plane.\n",
    "\n",
    " <img src=\"pictures/trajectory.jpg\" alt=\"KITTtraject-figure\" width=\"250px\">\n",
    "\n",
    "*KITT's trajectory*\n",
    "<!--\n",
    "```{figure} trajectory.jpg\n",
    "---\n",
    "height/width: 150px\n",
    "name: KITTtraject-figure\n",
    "---\n",
    "KITT's trajectory\n",
    "```\n",
    "-->\n",
    "\n",
    "\n",
    "\n",
    "### Deliverable\n",
    "\n",
    "Implement your control algorithm and test it using your virtual car model. In your final report, document the results of the tests, which prove that given correct position estimation, the control algorithm will get the car to its goal."
   ]
  }
 ],
 "metadata": {
  "kernelspec": {
   "display_name": "Python 3",
   "language": "python",
   "name": "python3"
  },
  "language_info": {
   "name": "python",
   "version": "3.12.6"
  }
 },
 "nbformat": 4,
 "nbformat_minor": 2
}
