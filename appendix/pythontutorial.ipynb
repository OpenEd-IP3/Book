{
 "cells": [
  {
   "cell_type": "markdown",
   "metadata": {},
   "source": [
    "# **Object Oriented Programming - Python**\n",
    "\n",
    "Object oriented programming (OOP) is a way of writing code which relies on classes and objects. Python has a large dynamic typing model which allows for the easy use of OOP techniques. A basic structure of OOP would be, \n",
    "- Classes provide program unit (logic + data, all in one package)\n",
    "- Hierarchy is followed which can avoid redundancy. \n",
    "\n",
    "Major concepts discussed in this notebook are classes, objects, polymorphism, encapsulation, inheritance and data abstraction for Python."
   ]
  },
  {
   "cell_type": "markdown",
   "metadata": {},
   "source": [
    "## 1- Classes and Objects\n",
    "\n",
    "**Class** is a blueprint which is used to define the specific grouping of data and functions. The aim is to model real-world entities. It defines the structure we need for the code base, similar to functions.\n",
    "\n",
    "Classes are a user-defined data type denoted using a reserved keyword **class**.\n",
    "\n",
    "There are more high level concepts like the design of a super class to inherit the methods of a previously defined class, which will be explored later.\n",
    "\n",
    "**Objects**\n",
    "\n",
    "An object is an *instance* of the class with actual values. It is a *reference* type not a *value* type. When a class is defined it needs to create an object to allocate the memory.\n",
    "\n",
    "💭 <font color='orange'> Instantiating/Instantiation is the process of creating an object</font> \n",
    "\n",
    "In this section, there will be many objects declared to assign values and create entities using classes. This would help understand how classes and objects work.\n",
    "\n",
    "💡 <font color='orange'> Objects instantiated from the same class are *independent* from each other.</font>"
   ]
  },
  {
   "cell_type": "code",
   "execution_count": 119,
   "metadata": {},
   "outputs": [],
   "source": [
    "class Student():\n",
    "    def __init__(self, sno, name, age, gender):\n",
    "        self.sno = sno\n",
    "        self.name = name\n",
    "        self.age = age\n",
    "        self.gender = gender\n",
    "        self.type = 'learning'\n",
    "\n",
    "    def say_name(self):\n",
    "\n",
    "        print(\"My name is \" + self.name)"
   ]
  },
  {
   "cell_type": "markdown",
   "metadata": {},
   "source": [
    "**Self Parameter** is a built-in parameter which references the current class. It represents the instance of a class and is used to access instance members. No specific value needs to be assigned to the **self** parameter itself as Python automatically does this.\n",
    "\n",
    "The **__init__** method initialises the attributes when an object is created, this is also called the constructor. The initial values are passed for sno, name, age, and gender, while the **type** attribute is fixed as 'learning'. These attributes can be accessed by using the *self* prefix in other methods like **self.age**.\n",
    "\n",
    "💡 <font color='orange'> Additionally, the methods can also be accessed the same way as the attributes</font>"
   ]
  },
  {
   "cell_type": "code",
   "execution_count": 120,
   "metadata": {},
   "outputs": [],
   "source": [
    "def scorecard(self,marks):\n",
    "    self.say_name()\n",
    "    print(\"Marks approx.\" + str(marks))"
   ]
  },
  {
   "cell_type": "markdown",
   "metadata": {},
   "source": [
    "💡 <font color='orange'> The constructor is automatically called when an object is created.</font>"
   ]
  },
  {
   "cell_type": "code",
   "execution_count": 121,
   "metadata": {},
   "outputs": [
    {
     "name": "stdout",
     "output_type": "stream",
     "text": [
      "The number of students: 3\n"
     ]
    }
   ],
   "source": [
    "# Constructor explained\n",
    "\n",
    "class exampleStudent:    \n",
    "    count = 0    \n",
    "    def __init__(self):    \n",
    "        exampleStudent.count = exampleStudent.count + 1    \n",
    "s1=exampleStudent()    \n",
    "s2=exampleStudent()    \n",
    "s3=exampleStudent()    \n",
    "print(\"The number of students:\",exampleStudent.count)    "
   ]
  },
  {
   "cell_type": "markdown",
   "metadata": {},
   "source": [
    "### Types of Constructors\n",
    "\n",
    "There are two types of constructors, which will be explained using examples in this section.\n",
    "\n",
    "#### 1 - Parametrized Constructor\n",
    "\n",
    "This type of constructor has multiple parameters along with the **self**."
   ]
  },
  {
   "cell_type": "code",
   "execution_count": 122,
   "metadata": {},
   "outputs": [
    {
     "name": "stdout",
     "output_type": "stream",
     "text": [
      "This is parametrized constructor\n",
      "Hello Genelia\n"
     ]
    }
   ],
   "source": [
    "class paramStudent:  \n",
    "        # Constructor - parameterized  \n",
    "        def __init__(self, name):  \n",
    "            print(\"This is parametrized constructor\")  \n",
    "            self.name = name  \n",
    "        def show(self):  \n",
    "            print(\"Hello\",self.name)  \n",
    "student = paramStudent(\"Genelia\")  \n",
    "student.show()    "
   ]
  },
  {
   "cell_type": "markdown",
   "metadata": {},
   "source": [
    "#### 2 - Default Constructor\n",
    "\n",
    "If a constructor is not included or forgotten to be declared, then that becomes the default constructor which does not perform any other task except initializing the objects."
   ]
  },
  {
   "cell_type": "code",
   "execution_count": 123,
   "metadata": {},
   "outputs": [
    {
     "name": "stdout",
     "output_type": "stream",
     "text": [
      "101 Jose\n"
     ]
    }
   ],
   "source": [
    "class defStudent:  \n",
    "    roll_num = 101  \n",
    "    name = \"Jose\"  \n",
    "      \n",
    "    def display(self):  \n",
    "        print(self.roll_num,self.name)  \n",
    "      \n",
    "st = defStudent()  \n",
    "st.display()  "
   ]
  },
  {
   "cell_type": "markdown",
   "metadata": {},
   "source": [
    "#### 3 - Multiple Constructors\n",
    "\n",
    "As the title suggests, more than one constructor can be defined as part of the same class. In the code below, the first method is not accessible by the *stnew* object. If there are multiple constructors, internally the object can only call the last constructor (constructor overloading is not allowed in Python)."
   ]
  },
  {
   "cell_type": "code",
   "execution_count": 124,
   "metadata": {},
   "outputs": [
    {
     "name": "stdout",
     "output_type": "stream",
     "text": [
      "The second contructor\n"
     ]
    }
   ],
   "source": [
    "class mulStudent:  \n",
    "    def __init__(self):  \n",
    "        print(\"The First Constructor\")  \n",
    "    def __init__(self):  \n",
    "        print(\"The second contructor\")  \n",
    "      \n",
    "stnew = mulStudent()  "
   ]
  },
  {
   "cell_type": "markdown",
   "metadata": {},
   "source": [
    "### - Creating a Property \n",
    "\n",
    "In Python, properties are a way to control access to instance attributes. Properties allow you to define methods that get, set, or delete an attribute, adding encapsulation to your class design. This is particularly useful for validating data before assignment or for computing values dynamically."
   ]
  },
  {
   "cell_type": "code",
   "execution_count": 125,
   "metadata": {},
   "outputs": [],
   "source": [
    "class Student():\n",
    "    def __init__(self, sno, name, age, gender):\n",
    "        self.sno = sno\n",
    "        self.name = name\n",
    "        self.age = age  # This will use the setter\n",
    "        self.gender = gender\n",
    "        self.type = 'learning'\n",
    "\n",
    "    @property\n",
    "    def age(self):\n",
    "        return self._age\n",
    "\n",
    "    @age.setter\n",
    "    def age(self, value):\n",
    "        if value < 0:\n",
    "            raise ValueError(\"Age cannot be negative\")\n",
    "        self._age = value\n",
    "\n",
    "    def say_name(self):\n",
    "        print(\"My name is \" + self.name)\n",
    "\n",
    "class UGraduateStudent(Student):\n",
    "    def __init__(self, sno, name, age, gender, research_topic, advisor):\n",
    "        super().__init__(sno, name, age, gender)\n",
    "        self.research_topic = research_topic\n",
    "        self.advisor = advisor\n",
    "        self.type = 'research'\n",
    "\n",
    "    def say_details(self):\n",
    "        print(f\"My name is {self.name}, I am {self.age} years old, and I am researching {self.research_topic} under {self.advisor}.\")\n"
   ]
  },
  {
   "cell_type": "code",
   "execution_count": 126,
   "metadata": {},
   "outputs": [
    {
     "name": "stdout",
     "output_type": "stream",
     "text": [
      "50\n",
      "21\n",
      "My name is madonna, I am 50 years old, and I am researching AI under Dr. Brown.\n"
     ]
    }
   ],
   "source": [
    "# Creating a Student instance\n",
    "student1 = Student(sno=1, name=\"hugh jackman\", age=50, gender=\"Male\")\n",
    "print(student1.age)  # Output: 20\n",
    "student1.age = 21    # Valid update\n",
    "print(student1.age)  # Output: 21\n",
    "# student1.age = -5  # This will raise ValueError: Age cannot be negative\n",
    "\n",
    "# Creating a UGraduateStudent instance\n",
    "ug_student1 = UGraduateStudent(sno=2, name=\"madonna\", age=50, gender=\"Female\", research_topic=\"AI\", advisor=\"Dr. Brown\")\n",
    "ug_student1.say_details()\n",
    "\n",
    "# Attempt to set a negative age (will raise an error)\n",
    "# ug_student1.age = -1  # This will raise ValueError: Age cannot be negative\n"
   ]
  },
  {
   "cell_type": "markdown",
   "metadata": {},
   "source": [
    "## 2- Adding inheritance\n",
    "\n",
    "The referencing of superclasses is a good initial step. A built-in keyword **super** or the explicit name of the superclass is used. So here the **parent class** is *Student* and the child class is *UGraduateStudent*. The child class inherits from the parent class (attributes and methods), similar to genetic inheritance. \n",
    "\n",
    "Child classes can also override or extend the attributes and methods of the parent classes (Function overloading). Like for example here, *self.type* is overriden in *UGraduateStudent(Student)* class."
   ]
  },
  {
   "cell_type": "code",
   "execution_count": 127,
   "metadata": {},
   "outputs": [],
   "source": [
    "class UGraduateStudent(Student):\n",
    "    def __init__(self, sno, name, age, gender, research_topic, advisor):\n",
    "        super().__init__(sno, name, age, gender)\n",
    "        self.research_topic = research_topic\n",
    "        self.advisor = advisor\n",
    "        self.type = 'research'\n",
    "\n",
    "    def say_details(self):\n",
    "        print(f\"My name is {self.name}, I am {self.age} years old, and I am researching {self.research_topic} under {self.advisor}.\")"
   ]
  },
  {
   "cell_type": "code",
   "execution_count": 128,
   "metadata": {},
   "outputs": [
    {
     "name": "stdout",
     "output_type": "stream",
     "text": [
      "My name is Jane Smith, I am 20 years old, and I am researching Quantum Computing under Dr. Alan Turing.\n"
     ]
    }
   ],
   "source": [
    "# example\n",
    "ugrad_student = UGraduateStudent(2, \"Jane Smith\", 20, \"Female\", \"Quantum Computing\", \"Dr. Alan Turing\")\n",
    "\n",
    "ugrad_student.say_details()\n"
   ]
  },
  {
   "cell_type": "markdown",
   "metadata": {},
   "source": [
    "⚠️ <font color='#8B0000'> Do not do this</font> ⚠️\n",
    "\n",
    "```{code-cell}\n",
    "\n",
    "class UGraduateStudent(Student):\n",
    "    def __init__(self, listofitems=None):\n",
    "        if listofitems is None:\n",
    "            self.listofitems = []\n",
    "        else:\n",
    "            self.listofitems = items\n",
    "\n",
    "```\n",
    "\n",
    "💡 <font color='orange'> super() can solve many problems when accessing the base class while using multiple inheritance. But generally, multiple inheritance is quite confusing hence better to not use this.</font>"
   ]
  },
  {
   "cell_type": "markdown",
   "metadata": {},
   "source": [
    "## 3- Encapsulation in Python: Public, Protected, and Private Members\n",
    "\n",
    "Encapsulation is a fundamental concept in object-oriented programming that restricts direct access to some of an object's components, which is intended to prevent accidental interference and misuse of the data. It also helps to maintain ease of understanding and a reliable code base.\n",
    "\n",
    "In Python, encapsulation is achieved through the use of public, protected, and private members. These are explained using the Student and UGraduateStudent classes below. \n",
    "\n",
    "### Public Members\n",
    "\n",
    "Public members are accessible from any part of the program. In Python, all members are public by default unless specified otherwise. Public members can be accessed directly using the instance of the class.\n",
    "\n",
    "### Protected Members\n",
    "\n",
    "Protected members are accessible within the class and its subclasses but not outside. In Python, protected members are indicated by a single underscore prefix ('_').\n",
    "\n",
    "### Private Members\n",
    "\n",
    "Private members are accessible only within the class in which they are defined. They are not accessible outside the class or by any subclass. In Python, private members are indicated by a double underscore prefix ('__').\n"
   ]
  },
  {
   "cell_type": "code",
   "execution_count": 129,
   "metadata": {},
   "outputs": [
    {
     "name": "stdout",
     "output_type": "stream",
     "text": [
      "John Doe\n"
     ]
    }
   ],
   "source": [
    "# Public members\n",
    "\n",
    "class Student:\n",
    "    def __init__(self, sno, name, age, gender):\n",
    "        self.sno = sno      # public\n",
    "        self.name = name    # public\n",
    "        self.age = age      # public\n",
    "        self.gender = gender # public\n",
    "        self.type = 'learning'  # public\n",
    "\n",
    "# Accessing public members\n",
    "student = Student(1, \"John Doe\", 20, \"Male\")\n",
    "print(student.name)  # Output: John Doe\n"
   ]
  },
  {
   "cell_type": "code",
   "execution_count": 130,
   "metadata": {},
   "outputs": [
    {
     "name": "stdout",
     "output_type": "stream",
     "text": [
      "Hugh\n",
      "My name is Julia, I am 22 years old, and I am researching AI under Dr. Brown.\n"
     ]
    }
   ],
   "source": [
    "# Protected members\n",
    "\n",
    "class Student:\n",
    "    def __init__(self, sno, name, age, gender):\n",
    "        self._sno = sno      # protected\n",
    "        self._name = name    # protected\n",
    "        self._age = age      # protected\n",
    "        self._gender = gender # protected\n",
    "        self._type = 'learning'  # protected\n",
    "\n",
    "# Accessing protected members (not recommended)\n",
    "student = Student(1, \"Hugh\", 20, \"Male\")\n",
    "print(student._name)  # Output: John Doe (but should be accessed with caution)\n",
    "\n",
    "class UGraduateStudent(Student):\n",
    "    def __init__(self, sno, name, age, gender, research_topic, advisor):\n",
    "        super().__init__(sno, name, age, gender)\n",
    "        self.research_topic = research_topic\n",
    "        self.advisor = advisor\n",
    "        self.type = 'research'\n",
    "\n",
    "    def say_details(self):\n",
    "        print(f\"My name is {self._name}, I am {self._age} years old, and I am researching {self.research_topic} under {self.advisor}.\")\n",
    "\n",
    "# Accessing protected members in a subclass\n",
    "ug_student = UGraduateStudent(2, \"Julia\", 22, \"Female\", \"AI\", \"Dr. Brown\")\n",
    "ug_student.say_details()\n",
    "# Output: My name is Jane Smith, I am 22 years old, and I am researching AI under Dr. Brown.\n"
   ]
  },
  {
   "cell_type": "code",
   "execution_count": 131,
   "metadata": {},
   "outputs": [
    {
     "name": "stdout",
     "output_type": "stream",
     "text": [
      "My name is John Doe\n"
     ]
    }
   ],
   "source": [
    "# Private members\n",
    "\n",
    "class Student:\n",
    "    def __init__(self, sno, name, age, gender):\n",
    "        self.__sno = sno      # private\n",
    "        self.__name = name    # private\n",
    "        self.__age = age      # private\n",
    "        self.__gender = gender # private\n",
    "        self.__type = 'learning'  # private\n",
    "\n",
    "    def say_name(self):\n",
    "        print(\"My name is \" + self.__name)\n",
    "\n",
    "# Accessing private members (will raise an AttributeError)\n",
    "student = Student(1, \"John Doe\", 20, \"Male\")\n",
    "# print(student.__name)  # Raises AttributeError\n",
    "\n",
    "# Accessing private members through a public method\n",
    "student.say_name()  # Output: My name is John Doe\n",
    "\n",
    "class UGraduateStudent(Student):\n",
    "    def __init__(self, sno, name, age, gender, research_topic, advisor):\n",
    "        super().__init__(sno, name, age, gender)\n",
    "        self.research_topic = research_topic\n",
    "        self.advisor = advisor\n",
    "        self.type = 'research'\n",
    "\n",
    "    def say_details(self):\n",
    "        # Attempting to access private member will raise AttributeError\n",
    "        # print(f\"My name is {self.__name}, I am {self.__age} years old, and I am researching {self.research_topic} under {self.advisor}.\")\n",
    "        pass\n",
    "\n",
    "# Accessing private members in a subclass (not possible)\n",
    "ug_student = UGraduateStudent(2, \"Jane Smith\", 22, \"Female\", \"AI\", \"Dr. Penelope\")\n",
    "# ug_student.say_details()  # Raises AttributeError if attempting to access private members\n"
   ]
  },
  {
   "cell_type": "markdown",
   "metadata": {},
   "source": [
    "## 4- Polymorphism\n",
    "\n",
    "Polymorphism is a fundamental concept in object-oriented programming that allows objects of different classes to be treated as objects of a common superclass. It is the ability to define a common interface for multiple forms (data types). It improves code reusability and flexibility.\n",
    "\n",
    "The example below illustrates the concepts associated with Polymorphism."
   ]
  },
  {
   "cell_type": "code",
   "execution_count": 132,
   "metadata": {},
   "outputs": [
    {
     "name": "stdout",
     "output_type": "stream",
     "text": [
      "I am a student named John Doe.\n",
      "My name is Jane Smith, I am 22 years old, and I am researching AI under Dr. Brown.\n"
     ]
    }
   ],
   "source": [
    "class Student:\n",
    "    def __init__(self, sno, name, age, gender):\n",
    "        self.sno = sno\n",
    "        self.name = name\n",
    "        self.age = age\n",
    "        self.gender = gender\n",
    "        self.type = 'learning'\n",
    "\n",
    "    def say_name(self):\n",
    "        print(\"My name is \" + self.name)\n",
    "\n",
    "    def say_details(self):\n",
    "        print(f\"I am a student named {self.name}.\")\n",
    "\n",
    "class UGraduateStudent(Student):\n",
    "    def __init__(self, sno, name, age, gender, research_topic, advisor):\n",
    "        super().__init__(sno, name, age, gender)\n",
    "        self.research_topic = research_topic\n",
    "        self.advisor = advisor\n",
    "        self.type = 'research'\n",
    "\n",
    "    def say_details(self):\n",
    "        print(f\"My name is {self.name}, I am {self.age} years old, and I am researching {self.research_topic} under {self.advisor}.\")\n",
    "\n",
    "# Example of Polymorphism\n",
    "def introduce(student):\n",
    "    student.say_details()\n",
    "\n",
    "# Create instances of Student and UGraduateStudent\n",
    "student1 = Student(1, \"John Doe\", 20, \"Male\")\n",
    "ug_student1 = UGraduateStudent(2, \"Jane Smith\", 22, \"Female\", \"AI\", \"Dr. Brown\")\n",
    "\n",
    "# Both instances can be passed to the same function\n",
    "introduce(student1)      # Output: I am a student named John Doe.\n",
    "introduce(ug_student1)   # Output: My name is Jane Smith, I am 22 years old, and I am researching AI under Dr. Brown.\n"
   ]
  },
  {
   "cell_type": "markdown",
   "metadata": {},
   "source": [
    "**Method Overriding:** The *UGraduateStudent* class overrides the say_details method defined in the *Student* class. This means that when *say_details* is called on an instance of *UGraduateStudent*, the subclass's version of the method is executed.\n",
    "\n",
    "**Common Interface:** The function introduce accepts an instance of *Student* as an argument and calls the *say_details* method. Since both Student and *UGraduateStudent* have a *say_details* method, this function can handle objects of both classes. This is polymorphism in action.\n",
    "\n",
    "**Duck Typing:** Python's dynamic typing allows the introduce function to accept any object that has a *say_details* method, regardless of the object's class. This flexibility is a hallmark of Python's approach to polymorphism."
   ]
  },
  {
   "cell_type": "markdown",
   "metadata": {},
   "source": [
    "## 5- Operator and Function Overloading\n",
    "\n",
    "### Operator overloading \n",
    "\n",
    "This allows us to define how operators like \"+,*,-\" and many more behave when they are applied to the instances of the classes we have created. Special methods can be defined for doing so.\n",
    "\n",
    "Let us see one such example for the '+' operator in the *Student* class.\n"
   ]
  },
  {
   "cell_type": "code",
   "execution_count": 133,
   "metadata": {},
   "outputs": [
    {
     "name": "stdout",
     "output_type": "stream",
     "text": [
      "hugh and ryan are both students.\n",
      "hugh and jim are both students.\n",
      "jim and pam are both research students.\n"
     ]
    }
   ],
   "source": [
    "class Student:\n",
    "    def __init__(self, sno, name, age, gender):\n",
    "        self.sno = sno\n",
    "        self.name = name\n",
    "        self.age = age\n",
    "        self.gender = gender\n",
    "        self.type = 'learning'\n",
    "\n",
    "    def say_name(self):\n",
    "        print(\"My name is \" + self.name)\n",
    "    \n",
    "    # Operator overloading for '+'\n",
    "    def __add__(self, other):\n",
    "        if isinstance(other, Student):\n",
    "            return f\"{self.name} and {other.name} are both students.\"\n",
    "        return NotImplemented\n",
    "\n",
    "class UGraduateStudent(Student):\n",
    "    def __init__(self, sno, name, age, gender, research_topic, advisor):\n",
    "        super().__init__(sno, name, age, gender)\n",
    "        self.research_topic = research_topic\n",
    "        self.advisor = advisor\n",
    "        self.type = 'research'\n",
    "\n",
    "    def say_details(self):\n",
    "        print(f\"My name is {self.name}, I am {self.age} years old, and I am researching {self.research_topic} under {self.advisor}.\")\n",
    "    \n",
    "    # Operator overloading for '+'\n",
    "    def __add__(self, other):\n",
    "        if isinstance(other, UGraduateStudent):\n",
    "            return f\"{self.name} and {other.name} are both research students.\"\n",
    "        elif isinstance(other, Student):\n",
    "            return f\"{self.name} is a research student and {other.name} is a student.\"\n",
    "        return NotImplemented\n",
    "\n",
    "# Example usage:\n",
    "s1 = Student(1, \"hugh\", 20, \"F\")\n",
    "s2 = Student(2, \"ryan\", 22, \"M\")\n",
    "ug1 = UGraduateStudent(3, \"jim\", 24, \"M\", \"AI\", \"Dr. Smith\")\n",
    "ug2 = UGraduateStudent(4, \"pam\", 25, \"F\", \"ML\", \"Dr. Jones\")\n",
    "\n",
    "print(s1 + s2)  # Output: Alice and Bob are both students.\n",
    "print(s1 + ug1) # Output: Alice is a student and Charlie is a research student.\n",
    "print(ug1 + ug2) # Output: Charlie and Diana are both research students.\n"
   ]
  },
  {
   "cell_type": "markdown",
   "metadata": {},
   "source": [
    "Whereas, function overloading is already explained in the inheritance section with an example. Python supports method overriding rather than traditional function overloading. This allows derived classes to have methods with the same name as those in base classes but with different behaviors."
   ]
  },
  {
   "cell_type": "markdown",
   "metadata": {},
   "source": [
    "## 👩‍💻 <font color='orange'> **Exercise 1 : Class defintion and Inheritance**</font>\n",
    "\n",
    "**Objective:** Create base and derived classes, and demonstrate inheritance.\n",
    "\n",
    "*Task:* Create a base class Vehicle with attributes make, model, and year. Include a method vehicle_info that prints these details.   \n",
    "*Task:* Create a derived class Car that inherits from Vehicle and adds an attribute num_doors. Override the vehicle_info method to include the number of doors in the output.\n",
    "*Task:* Create another derived class Truck that inherits from Vehicle and adds an attribute payload_capacity. Override the vehicle_info method to include the payload capacity in the output."
   ]
  },
  {
   "cell_type": "code",
   "execution_count": 134,
   "metadata": {},
   "outputs": [],
   "source": [
    "# Base class Vehicle\n",
    "class Vehicle:\n",
    "    def __init__(self, make, model, year):\n",
    "        self.make = make\n",
    "        self.model = model\n",
    "        self.year = year\n",
    "\n",
    "    def vehicle_info(self):\n",
    "        pass  # Implement this method and remove pass command\n",
    "\n",
    "# Derived class Car\n",
    "class Car(Vehicle):\n",
    "    def __init__(self, make, model, year, num_doors):\n",
    "        super().__init__(make, model, year)\n",
    "        self.num_doors = num_doors\n",
    "\n",
    "    def vehicle_info(self):\n",
    "        pass  # Implement this method and remove pass command\n",
    "\n",
    "# Derived class Truck\n",
    "class Truck(Vehicle):\n",
    "    def __init__(self, make, model, year, payload_capacity):\n",
    "        super().__init__(make, model, year)\n",
    "        self.payload_capacity = payload_capacity\n",
    "\n",
    "    def vehicle_info(self):\n",
    "        pass  # Implement this method and remove pass command\n",
    "\n",
    "# Example usage\n",
    "# car = Car(...)\n",
    "# truck = Truck(...)\n",
    "# car.vehicle_info()\n",
    "# truck.vehicle_info()\n"
   ]
  },
  {
   "cell_type": "markdown",
   "metadata": {},
   "source": [
    "## 👩‍💻 <font color='orange'> **Exercise 2 : Method overloading and overriding**</font>\n",
    "\n",
    "**Objective:** Demonstrate method overloading and overriding.\n",
    "\n",
    "*Task:* Create a base class Employee with attributes name, age, and salary. Include a method display_info that prints these details.\n",
    "*Task:* Create a derived class Manager that inherits from Employee and adds an attribute department. Override the display_info method to include the department in the output.\n",
    "*Task:* Add a new method display_info to Employee that accepts an additional parameter bonus and prints the details along with the bonus."
   ]
  },
  {
   "cell_type": "code",
   "execution_count": 135,
   "metadata": {},
   "outputs": [],
   "source": [
    "class Employee:\n",
    "    def __init__(self, name, age, salary):\n",
    "        self.name = name\n",
    "        self.age = age\n",
    "        self.salary = salary\n",
    "\n",
    "    def display_info(self):\n",
    "        pass  # Implement this method\n",
    "\n",
    "    def display_info(self, bonus):\n",
    "        pass  # Implement this method with overloading\n",
    "\n",
    "class Manager(Employee):\n",
    "    def __init__(self, name, age, salary, department):\n",
    "        super().__init__(name, age, salary)\n",
    "        self.department = department\n",
    "\n",
    "    def display_info(self):\n",
    "        pass  # Implement this method to override the base method\n",
    "\n",
    "# Example usage\n",
    "# emp = Employee(...)\n",
    "# mgr = Manager(...)\n",
    "# emp.display_info()\n",
    "# emp.display_info(bonus)\n",
    "# mgr.display_info()\n"
   ]
  },
  {
   "cell_type": "markdown",
   "metadata": {},
   "source": [
    "## 👩‍💻 <font color='orange'> **Exercise 3 : Operator Overloading**</font>\n",
    "\n",
    "**Objective:** Implement operator overloading for custom classes.\n",
    "\n",
    "*Task:* Extend the Car class from Exercise 1 to include an operator overloading method for + that combines the make and model of two Car objects.\n",
    "*Task:* Implement a __str__ method in both Car and Truck classes to provide a string representation of the objects\n"
   ]
  },
  {
   "cell_type": "code",
   "execution_count": 136,
   "metadata": {},
   "outputs": [],
   "source": [
    "class Car(Vehicle):\n",
    "    def __init__(self, make, model, year, num_doors):\n",
    "        super().__init__(make, model, year)\n",
    "        self.num_doors = num_doors\n",
    "\n",
    "    def vehicle_info(self):\n",
    "        pass  # Implement this method\n",
    "\n",
    "    def __add__(self, other):\n",
    "        pass  # Implement the operator overloading method\n",
    "\n",
    "    def __str__(self):\n",
    "        pass  # Implement the string representation method\n",
    "\n",
    "class Truck(Vehicle):\n",
    "    def __init__(self, make, model, year, payload_capacity):\n",
    "        super().__init__(make, model, year)\n",
    "        self.payload_capacity = payload_capacity\n",
    "\n",
    "    def vehicle_info(self):\n",
    "        pass  # Implement this method\n",
    "\n",
    "    def __str__(self):\n",
    "        pass  # Implement the string representation method\n",
    "\n",
    "# Example usage\n",
    "# car1 = Car(...)\n",
    "# car2 = Car(...)\n",
    "# print(car1 + car2)\n",
    "# print(str(car1))\n",
    "# print(str(truck))\n"
   ]
  },
  {
   "cell_type": "markdown",
   "metadata": {},
   "source": [
    "## 👩‍💻 <font color='orange'> **Exercise 4 Polymorphism and encapsulation**</font>\n",
    "\n",
    "**Objective:** Demonstrate polymorphism using method overriding and interfaces. Display encapsulation concepts as well.\n",
    "\n",
    "*Task:* Create an interface (abstract base class) Shape with methods area and perimeter.\n",
    "*Task:* Create classes Circle and Rectangle that implement the Shape interface and provide their own implementations for area and perimeter.\n",
    "*Task:* Write a function print_shape_info that takes a Shape object and prints its area and perimeter. \n",
    "*Task:* Introduce few parameters and encapsulate them and demonstrate private and protected members."
   ]
  },
  {
   "cell_type": "code",
   "execution_count": 137,
   "metadata": {},
   "outputs": [],
   "source": [
    "from abc import ABC, abstractmethod\n",
    "\n",
    "class Shape(ABC):\n",
    "    @abstractmethod\n",
    "    def area(self):\n",
    "        pass\n",
    "\n",
    "    @abstractmethod\n",
    "    def perimeter(self):\n",
    "        pass\n",
    "\n",
    "class Circle(Shape):\n",
    "    def __init__(self, radius):\n",
    "        self.radius = radius\n",
    "\n",
    "    def area(self):\n",
    "        pass  # Implement this method\n",
    "\n",
    "    def perimeter(self):\n",
    "        pass  # Implement this method\n",
    "\n",
    "class Rectangle(Shape):\n",
    "    def __init__(self, length, width):\n",
    "        self.length = length\n",
    "        self.width = width\n",
    "\n",
    "    def area(self):\n",
    "        pass  # Implement this method\n",
    "\n",
    "    def perimeter(self):\n",
    "        pass  # Implement this method\n",
    "\n",
    "def print_shape_info(shape):\n",
    "    pass  # Implement this function\n",
    "\n",
    "# Example usage\n",
    "# circle = Circle(...)\n",
    "# rectangle = Rectangle(...)\n",
    "# print_shape_info(circle)\n",
    "# print_shape_info(rectangle)\n"
   ]
  }
 ],
 "metadata": {
  "kernelspec": {
   "display_name": "opened",
   "language": "python",
   "name": "python3"
  },
  "language_info": {
   "codemirror_mode": {
    "name": "ipython",
    "version": 3
   },
   "file_extension": ".py",
   "mimetype": "text/x-python",
   "name": "python",
   "nbconvert_exporter": "python",
   "pygments_lexer": "ipython3",
   "version": "3.11.9"
  }
 },
 "nbformat": 4,
 "nbformat_minor": 2
}
